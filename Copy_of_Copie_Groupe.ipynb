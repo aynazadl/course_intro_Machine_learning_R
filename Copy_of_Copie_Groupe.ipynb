{
 "cells": [
  {
   "cell_type": "markdown",
   "metadata": {
    "id": "aN-DkJACn39q"
   },
   "source": [
    "# Introduction"
   ]
  },
  {
   "cell_type": "markdown",
   "metadata": {
    "id": "j5GOzS3WC42E"
   },
   "source": [
    "*Importation des packages nécéssaires*"
   ]
  },
  {
   "cell_type": "code",
   "execution_count": null,
   "metadata": {
    "colab": {
     "base_uri": "https://localhost:8080/",
     "height": 582
    },
    "id": "XPgX56n8608P",
    "outputId": "142e7b6c-ed45-4397-8b34-20b75b50b8c1"
   },
   "outputs": [
    {
     "name": "stderr",
     "output_type": "stream",
     "text": [
      "\n",
      "Attaching package: ‘dplyr’\n",
      "\n",
      "\n",
      "The following objects are masked from ‘package:stats’:\n",
      "\n",
      "    filter, lag\n",
      "\n",
      "\n",
      "The following objects are masked from ‘package:base’:\n",
      "\n",
      "    intersect, setdiff, setequal, union\n",
      "\n",
      "\n",
      "Warning message in system(\"timedatectl\", intern = TRUE):\n",
      "“running command 'timedatectl' had status 1”\n",
      "── \u001b[1mAttaching packages\u001b[22m ─────────────────────────────────────── tidyverse 1.3.0 ──\n",
      "\n",
      "\u001b[32m✔\u001b[39m \u001b[34mggplot2\u001b[39m 3.3.3     \u001b[32m✔\u001b[39m \u001b[34mpurrr  \u001b[39m 0.3.4\n",
      "\u001b[32m✔\u001b[39m \u001b[34mtibble \u001b[39m 3.1.0     \u001b[32m✔\u001b[39m \u001b[34mstringr\u001b[39m 1.4.0\n",
      "\u001b[32m✔\u001b[39m \u001b[34mtidyr  \u001b[39m 1.1.3     \u001b[32m✔\u001b[39m \u001b[34mforcats\u001b[39m 0.5.1\n",
      "\u001b[32m✔\u001b[39m \u001b[34mreadr  \u001b[39m 1.4.0     \n",
      "\n",
      "── \u001b[1mConflicts\u001b[22m ────────────────────────────────────────── tidyverse_conflicts() ──\n",
      "\u001b[31m✖\u001b[39m \u001b[34mdplyr\u001b[39m::\u001b[32mfilter()\u001b[39m masks \u001b[34mstats\u001b[39m::filter()\n",
      "\u001b[31m✖\u001b[39m \u001b[34mdplyr\u001b[39m::\u001b[32mlag()\u001b[39m    masks \u001b[34mstats\u001b[39m::lag()\n",
      "\n"
     ]
    },
    {
     "ename": "ERROR",
     "evalue": "ignored",
     "output_type": "error",
     "traceback": [
      "Error in library(plotly): there is no package called ‘plotly’\nTraceback:\n",
      "1. library(plotly)"
     ]
    }
   ],
   "source": [
    "#install.packages(\"dplyr\")\n",
    "#install.packages(\"tidyverse\")\n",
    "#install.packages(\"readxl\")\n",
    "#install.packages(\"ggplot\")\n",
    "#install.packages(\"plotly\")\n",
    "#install.packages(\"splinetree\")\n",
    "#install.packages(\"FactoMineR\")\n",
    "#install.packages(\"factoextra\")\n",
    "\n",
    "library(dplyr)\n",
    "library(tidyverse)\n",
    "library(readxl)\n",
    "library(ggplot2)\n",
    "library(plotly)\n",
    "library(FactoMineR)\n",
    "library(factoextra)\n",
    "library(splinetree)\n"
   ]
  },
  {
   "cell_type": "markdown",
   "metadata": {
    "id": "q9LMEqWECuy3"
   },
   "source": [
    "# Ingénierie des données"
   ]
  },
  {
   "cell_type": "markdown",
   "metadata": {
    "id": "GSTiXsqmDFke"
   },
   "source": [
    "## Importation des données"
   ]
  },
  {
   "cell_type": "markdown",
   "metadata": {
    "id": "rtrh0PVID06E"
   },
   "source": [
    "Dans cette section, on va enrichir nos données avec Enrechissement des données par des données financières ou sociales:\n",
    "L'idée c'est d'enrechir cette base principale par d'autre data:\n",
    "Enrichir avec le nombre des vaccinations par jour. comme cela on peut vérifier voir l'impact de la vaccianation sur le nombre d'hospitalisation/Deces...\n",
    "Aisni qu'on peut enrechir les données avec le des données financière pour avoir le cout d'hopitalisation par jour..."
   ]
  },
  {
   "cell_type": "code",
   "execution_count": null,
   "metadata": {
    "id": "xCwZ-2yMCWVQ"
   },
   "outputs": [],
   "source": [
    "# Données de base\n",
    "mainData=as.data.frame(read.csv(\"https://www.data.gouv.fr/fr/datasets/r/63352e38-d353-4b54-bfd1-f1b3ee1cabd7\", sep=\";\"))\n",
    "DataCotisDep=as.data.frame(read.csv(\"https://www.data.gouv.fr/en/datasets/r/8d497f12-d156-45ad-a794-30eff599325b\", sep=\",\", dec=\".\"))\n",
    "nbVaccinDep=as.data.frame(read.csv(\"https://www.data.gouv.fr/fr/datasets/r/7969c06d-848e-40cf-9c3c-21b5bd5a874b\", sep=\";\", dec=\".\"))"
   ]
  },
  {
   "cell_type": "code",
   "execution_count": null,
   "metadata": {
    "colab": {
     "base_uri": "https://localhost:8080/",
     "height": 333
    },
    "id": "jkJ97CDEIxxh",
    "outputId": "385d36ce-e917-4306-d6d0-4d3d01330dfa"
   },
   "outputs": [
    {
     "name": "stderr",
     "output_type": "stream",
     "text": [
      "Warning message in scan(file = file, what = what, sep = sep, quote = quote, dec = dec, :\n",
      "“URL 'https://opendata.reseaux-energies.fr/explore/dataset/temperature-quotidienne-departementale/download?format=csv&timezone=Europe/Berlin&use_labels_for_header=false': Timeout of 60 seconds was reached”\n"
     ]
    },
    {
     "ename": "ERROR",
     "evalue": "ignored",
     "output_type": "error",
     "traceback": [
      "Error in scan(file = file, what = what, sep = sep, quote = quote, dec = dec, : cannot read from connection\nTraceback:\n",
      "1. read.csv(\"https://www.data.gouv.fr/fr/datasets/r/dd0df06a-85f2-4621-8b8b-5a3fe195bcd7\", \n .     sep = \";\", dec = \".\", encoding = \"UTF-8\")",
      "2. read.table(file = file, header = header, sep = sep, quote = quote, \n .     dec = dec, fill = fill, comment.char = comment.char, ...)",
      "3. scan(file = file, what = what, sep = sep, quote = quote, dec = dec, \n .     nmax = nrows, skip = 0, na.strings = na.strings, quiet = TRUE, \n .     fill = fill, strip.white = strip.white, blank.lines.skip = blank.lines.skip, \n .     multi.line = FALSE, comment.char = comment.char, allowEscapes = allowEscapes, \n .     flush = flush, encoding = encoding, skipNul = skipNul)"
     ]
    }
   ],
   "source": [
    "dataTemp = read.csv(\"https://www.data.gouv.fr/fr/datasets/r/dd0df06a-85f2-4621-8b8b-5a3fe195bcd7\", sep=\";\", dec=\".\", encoding = \"UTF-8\")"
   ]
  },
  {
   "cell_type": "markdown",
   "metadata": {
    "id": "grt4K9lkH_Zf"
   },
   "source": [
    "## Préparation et modélisation des données"
   ]
  },
  {
   "cell_type": "markdown",
   "metadata": {
    "id": "-SQy0KneIuiO"
   },
   "source": [
    "### Données de base (MainData)"
   ]
  },
  {
   "cell_type": "code",
   "execution_count": null,
   "metadata": {
    "colab": {
     "base_uri": "https://localhost:8080/",
     "height": 271
    },
    "id": "QmORhiswPIuw",
    "outputId": "3796ea85-83ee-4834-ced6-e64bf14bcaea"
   },
   "outputs": [
    {
     "data": {
      "text/html": [
       "<table class=\"dataframe\">\n",
       "<caption>A data.frame: 6 × 10</caption>\n",
       "<thead>\n",
       "\t<tr><th></th><th scope=col>dep</th><th scope=col>sexe</th><th scope=col>jour</th><th scope=col>hosp</th><th scope=col>rea</th><th scope=col>HospConv</th><th scope=col>SSR_USLD</th><th scope=col>autres</th><th scope=col>rad</th><th scope=col>dc</th></tr>\n",
       "\t<tr><th></th><th scope=col>&lt;chr&gt;</th><th scope=col>&lt;int&gt;</th><th scope=col>&lt;chr&gt;</th><th scope=col>&lt;int&gt;</th><th scope=col>&lt;int&gt;</th><th scope=col>&lt;int&gt;</th><th scope=col>&lt;int&gt;</th><th scope=col>&lt;int&gt;</th><th scope=col>&lt;int&gt;</th><th scope=col>&lt;int&gt;</th></tr>\n",
       "</thead>\n",
       "<tbody>\n",
       "\t<tr><th scope=row>1</th><td>01</td><td>0</td><td>2020-03-18</td><td> 2</td><td> 0</td><td>NA</td><td>NA</td><td>NA</td><td> 1</td><td> 0</td></tr>\n",
       "\t<tr><th scope=row>2</th><td>01</td><td>1</td><td>2020-03-18</td><td> 1</td><td> 0</td><td>NA</td><td>NA</td><td>NA</td><td> 1</td><td> 0</td></tr>\n",
       "\t<tr><th scope=row>3</th><td>01</td><td>2</td><td>2020-03-18</td><td> 1</td><td> 0</td><td>NA</td><td>NA</td><td>NA</td><td> 0</td><td> 0</td></tr>\n",
       "\t<tr><th scope=row>4</th><td>02</td><td>0</td><td>2020-03-18</td><td>41</td><td>10</td><td>NA</td><td>NA</td><td>NA</td><td>18</td><td>11</td></tr>\n",
       "\t<tr><th scope=row>5</th><td>02</td><td>1</td><td>2020-03-18</td><td>19</td><td> 4</td><td>NA</td><td>NA</td><td>NA</td><td>11</td><td> 6</td></tr>\n",
       "\t<tr><th scope=row>6</th><td>02</td><td>2</td><td>2020-03-18</td><td>22</td><td> 6</td><td>NA</td><td>NA</td><td>NA</td><td> 7</td><td> 5</td></tr>\n",
       "</tbody>\n",
       "</table>\n"
      ],
      "text/latex": [
       "A data.frame: 6 × 10\n",
       "\\begin{tabular}{r|llllllllll}\n",
       "  & dep & sexe & jour & hosp & rea & HospConv & SSR\\_USLD & autres & rad & dc\\\\\n",
       "  & <chr> & <int> & <chr> & <int> & <int> & <int> & <int> & <int> & <int> & <int>\\\\\n",
       "\\hline\n",
       "\t1 & 01 & 0 & 2020-03-18 &  2 &  0 & NA & NA & NA &  1 &  0\\\\\n",
       "\t2 & 01 & 1 & 2020-03-18 &  1 &  0 & NA & NA & NA &  1 &  0\\\\\n",
       "\t3 & 01 & 2 & 2020-03-18 &  1 &  0 & NA & NA & NA &  0 &  0\\\\\n",
       "\t4 & 02 & 0 & 2020-03-18 & 41 & 10 & NA & NA & NA & 18 & 11\\\\\n",
       "\t5 & 02 & 1 & 2020-03-18 & 19 &  4 & NA & NA & NA & 11 &  6\\\\\n",
       "\t6 & 02 & 2 & 2020-03-18 & 22 &  6 & NA & NA & NA &  7 &  5\\\\\n",
       "\\end{tabular}\n"
      ],
      "text/markdown": [
       "\n",
       "A data.frame: 6 × 10\n",
       "\n",
       "| <!--/--> | dep &lt;chr&gt; | sexe &lt;int&gt; | jour &lt;chr&gt; | hosp &lt;int&gt; | rea &lt;int&gt; | HospConv &lt;int&gt; | SSR_USLD &lt;int&gt; | autres &lt;int&gt; | rad &lt;int&gt; | dc &lt;int&gt; |\n",
       "|---|---|---|---|---|---|---|---|---|---|---|\n",
       "| 1 | 01 | 0 | 2020-03-18 |  2 |  0 | NA | NA | NA |  1 |  0 |\n",
       "| 2 | 01 | 1 | 2020-03-18 |  1 |  0 | NA | NA | NA |  1 |  0 |\n",
       "| 3 | 01 | 2 | 2020-03-18 |  1 |  0 | NA | NA | NA |  0 |  0 |\n",
       "| 4 | 02 | 0 | 2020-03-18 | 41 | 10 | NA | NA | NA | 18 | 11 |\n",
       "| 5 | 02 | 1 | 2020-03-18 | 19 |  4 | NA | NA | NA | 11 |  6 |\n",
       "| 6 | 02 | 2 | 2020-03-18 | 22 |  6 | NA | NA | NA |  7 |  5 |\n",
       "\n"
      ],
      "text/plain": [
       "  dep sexe jour       hosp rea HospConv SSR_USLD autres rad dc\n",
       "1 01  0    2020-03-18  2    0  NA       NA       NA      1   0\n",
       "2 01  1    2020-03-18  1    0  NA       NA       NA      1   0\n",
       "3 01  2    2020-03-18  1    0  NA       NA       NA      0   0\n",
       "4 02  0    2020-03-18 41   10  NA       NA       NA     18  11\n",
       "5 02  1    2020-03-18 19    4  NA       NA       NA     11   6\n",
       "6 02  2    2020-03-18 22    6  NA       NA       NA      7   5"
      ]
     },
     "metadata": {
      "tags": []
     },
     "output_type": "display_data"
    }
   ],
   "source": [
    "head(mainData)"
   ]
  },
  {
   "cell_type": "markdown",
   "metadata": {
    "id": "HTzNQFeuOpk6"
   },
   "source": [
    "La colonne sexe presentes les données par sexe (1 Femme, 2 Homme, 0 somme des deux), alors on va utiliser que les données avec sexe==0"
   ]
  },
  {
   "cell_type": "code",
   "execution_count": null,
   "metadata": {
    "colab": {
     "base_uri": "https://localhost:8080/",
     "height": 128
    },
    "id": "rHbro_TXIxaU",
    "outputId": "25464bea-f427-440a-8ac3-5bdab27d4f3f"
   },
   "outputs": [
    {
     "ename": "ERROR",
     "evalue": "ignored",
     "output_type": "error",
     "traceback": [
      "Error in filter(mainData, sexe == 0): object 'sexe' not found\nTraceback:\n",
      "1. filter(mainData, sexe == 0)"
     ]
    }
   ],
   "source": [
    "mainData=filter(mainData, sexe == 0)\n",
    "mainData = subset(mainData, select = -c(2))\n",
    "summary(mainData)"
   ]
  },
  {
   "cell_type": "markdown",
   "metadata": {
    "id": "FduYFNsOJkZO"
   },
   "source": [
    "Le modèle Splinetree n'accepte pas les données de type date dans le modèle, alors il font qu'on ajoute une colonne date.num qui va représenter les données de Date (jour)."
   ]
  },
  {
   "cell_type": "code",
   "execution_count": null,
   "metadata": {
    "colab": {
     "base_uri": "https://localhost:8080/",
     "height": 50
    },
    "id": "iZ6Y2hR2pP0l",
    "outputId": "c5b969f4-1bd2-4b23-afef-df1f611f8599"
   },
   "outputs": [
    {
     "data": {
      "text/html": [
       "<style>\n",
       ".dl-inline {width: auto; margin:0; padding: 0}\n",
       ".dl-inline>dt, .dl-inline>dd {float: none; width: auto; display: inline-block}\n",
       ".dl-inline>dt::after {content: \":\\0020\"; padding-right: .5ex}\n",
       ".dl-inline>dt:not(:first-of-type) {padding-left: .5ex}\n",
       "</style><dl class=dl-inline><dt>dep</dt><dd>0</dd><dt>jour</dt><dd>0</dd><dt>hosp</dt><dd>0</dd><dt>rea</dt><dd>0</dd><dt>HospConv</dt><dd>36461</dd><dt>SSR_USLD</dt><dd>36461</dd><dt>autres</dt><dd>36461</dd><dt>rad</dt><dd>0</dd><dt>dc</dt><dd>0</dd></dl>\n"
      ],
      "text/latex": [
       "\\begin{description*}\n",
       "\\item[dep] 0\n",
       "\\item[jour] 0\n",
       "\\item[hosp] 0\n",
       "\\item[rea] 0\n",
       "\\item[HospConv] 36461\n",
       "\\item[SSR\\textbackslash{}\\_USLD] 36461\n",
       "\\item[autres] 36461\n",
       "\\item[rad] 0\n",
       "\\item[dc] 0\n",
       "\\end{description*}\n"
      ],
      "text/markdown": [
       "dep\n",
       ":   0jour\n",
       ":   0hosp\n",
       ":   0rea\n",
       ":   0HospConv\n",
       ":   36461SSR_USLD\n",
       ":   36461autres\n",
       ":   36461rad\n",
       ":   0dc\n",
       ":   0\n",
       "\n"
      ],
      "text/plain": [
       "     dep     jour     hosp      rea HospConv SSR_USLD   autres      rad \n",
       "       0        0        0        0    36461    36461    36461        0 \n",
       "      dc \n",
       "       0 "
      ]
     },
     "metadata": {
      "tags": []
     },
     "output_type": "display_data"
    }
   ],
   "source": [
    "# Calcul du nombre de NA dans les colonnes de la mainBase\n",
    "colSums(sapply(mainData,is.na))"
   ]
  },
  {
   "cell_type": "markdown",
   "metadata": {
    "id": "DCm5QBKlPy2c"
   },
   "source": [
    "Alors pour les données de base, on a créé une colonne de plus qui va présenter/remplacer la colonne Jour. \n",
    "On a fait un encodage de la colonne Jour par departement."
   ]
  },
  {
   "cell_type": "code",
   "execution_count": null,
   "metadata": {
    "colab": {
     "base_uri": "https://localhost:8080/"
    },
    "id": "2SAX8e73oilX",
    "outputId": "b6052c15-90c0-46b6-a24d-e53bdc9c1de2"
   },
   "outputs": [
    {
     "name": "stdout",
     "output_type": "stream",
     "text": [
      "'data.frame':\t39390 obs. of  9 variables:\n",
      " $ dep     : chr  \"01\" \"02\" \"03\" \"04\" ...\n",
      " $ jour    : chr  \"2020-03-18\" \"2020-03-18\" \"2020-03-18\" \"2020-03-18\" ...\n",
      " $ hosp    : int  2 41 4 3 8 25 12 0 1 5 ...\n",
      " $ rea     : int  0 10 0 1 1 1 1 0 1 0 ...\n",
      " $ HospConv: int  NA NA NA NA NA NA NA NA NA NA ...\n",
      " $ SSR_USLD: int  NA NA NA NA NA NA NA NA NA NA ...\n",
      " $ autres  : int  NA NA NA NA NA NA NA NA NA NA ...\n",
      " $ rad     : int  1 18 1 2 9 47 0 1 2 0 ...\n",
      " $ dc      : int  0 11 0 0 0 2 0 0 0 0 ...\n"
     ]
    }
   ],
   "source": [
    "str(mainData)"
   ]
  },
  {
   "cell_type": "markdown",
   "metadata": {
    "id": "P1UjCJRnQZG2"
   },
   "source": [
    "### Nombre de vaccination par département"
   ]
  },
  {
   "cell_type": "code",
   "execution_count": null,
   "metadata": {
    "colab": {
     "base_uri": "https://localhost:8080/",
     "height": 271
    },
    "id": "bU_tp4zcQd2z",
    "outputId": "fcd919f5-1684-4864-a923-a6ac03770e39"
   },
   "outputs": [
    {
     "data": {
      "text/html": [
       "<table class=\"dataframe\">\n",
       "<caption>A data.frame: 6 × 7</caption>\n",
       "<thead>\n",
       "\t<tr><th></th><th scope=col>dep</th><th scope=col>jour</th><th scope=col>n_tot_dose1</th><th scope=col>n_tot_dose2</th><th scope=col>pop</th><th scope=col>couv_tot_dose1</th><th scope=col>couv_tot_dose2</th></tr>\n",
       "\t<tr><th></th><th scope=col>&lt;chr&gt;</th><th scope=col>&lt;chr&gt;</th><th scope=col>&lt;int&gt;</th><th scope=col>&lt;int&gt;</th><th scope=col>&lt;dbl&gt;</th><th scope=col>&lt;dbl&gt;</th><th scope=col>&lt;dbl&gt;</th></tr>\n",
       "</thead>\n",
       "<tbody>\n",
       "\t<tr><th scope=row>1</th><td>00</td><td>2021-04-10</td><td>    2</td><td>    2</td><td>    NA</td><td>  NA</td><td> NA</td></tr>\n",
       "\t<tr><th scope=row>2</th><td>01</td><td>2021-04-10</td><td>85073</td><td>26377</td><td>656955</td><td>12.9</td><td>4.0</td></tr>\n",
       "\t<tr><th scope=row>3</th><td>02</td><td>2021-04-10</td><td>79669</td><td>30389</td><td>526050</td><td>15.1</td><td>5.8</td></tr>\n",
       "\t<tr><th scope=row>4</th><td>03</td><td>2021-04-10</td><td>68130</td><td>30373</td><td>331315</td><td>20.6</td><td>9.2</td></tr>\n",
       "\t<tr><th scope=row>5</th><td>04</td><td>2021-04-10</td><td>31674</td><td>11783</td><td>165197</td><td>19.2</td><td>7.1</td></tr>\n",
       "\t<tr><th scope=row>6</th><td>05</td><td>2021-04-10</td><td>28179</td><td> 8853</td><td>141756</td><td>19.9</td><td>6.2</td></tr>\n",
       "</tbody>\n",
       "</table>\n"
      ],
      "text/latex": [
       "A data.frame: 6 × 7\n",
       "\\begin{tabular}{r|lllllll}\n",
       "  & dep & jour & n\\_tot\\_dose1 & n\\_tot\\_dose2 & pop & couv\\_tot\\_dose1 & couv\\_tot\\_dose2\\\\\n",
       "  & <chr> & <chr> & <int> & <int> & <dbl> & <dbl> & <dbl>\\\\\n",
       "\\hline\n",
       "\t1 & 00 & 2021-04-10 &     2 &     2 &     NA &   NA &  NA\\\\\n",
       "\t2 & 01 & 2021-04-10 & 85073 & 26377 & 656955 & 12.9 & 4.0\\\\\n",
       "\t3 & 02 & 2021-04-10 & 79669 & 30389 & 526050 & 15.1 & 5.8\\\\\n",
       "\t4 & 03 & 2021-04-10 & 68130 & 30373 & 331315 & 20.6 & 9.2\\\\\n",
       "\t5 & 04 & 2021-04-10 & 31674 & 11783 & 165197 & 19.2 & 7.1\\\\\n",
       "\t6 & 05 & 2021-04-10 & 28179 &  8853 & 141756 & 19.9 & 6.2\\\\\n",
       "\\end{tabular}\n"
      ],
      "text/markdown": [
       "\n",
       "A data.frame: 6 × 7\n",
       "\n",
       "| <!--/--> | dep &lt;chr&gt; | jour &lt;chr&gt; | n_tot_dose1 &lt;int&gt; | n_tot_dose2 &lt;int&gt; | pop &lt;dbl&gt; | couv_tot_dose1 &lt;dbl&gt; | couv_tot_dose2 &lt;dbl&gt; |\n",
       "|---|---|---|---|---|---|---|---|\n",
       "| 1 | 00 | 2021-04-10 |     2 |     2 |     NA |   NA |  NA |\n",
       "| 2 | 01 | 2021-04-10 | 85073 | 26377 | 656955 | 12.9 | 4.0 |\n",
       "| 3 | 02 | 2021-04-10 | 79669 | 30389 | 526050 | 15.1 | 5.8 |\n",
       "| 4 | 03 | 2021-04-10 | 68130 | 30373 | 331315 | 20.6 | 9.2 |\n",
       "| 5 | 04 | 2021-04-10 | 31674 | 11783 | 165197 | 19.2 | 7.1 |\n",
       "| 6 | 05 | 2021-04-10 | 28179 |  8853 | 141756 | 19.9 | 6.2 |\n",
       "\n"
      ],
      "text/plain": [
       "  dep jour       n_tot_dose1 n_tot_dose2 pop    couv_tot_dose1 couv_tot_dose2\n",
       "1 00  2021-04-10     2           2           NA   NA            NA           \n",
       "2 01  2021-04-10 85073       26377       656955 12.9           4.0           \n",
       "3 02  2021-04-10 79669       30389       526050 15.1           5.8           \n",
       "4 03  2021-04-10 68130       30373       331315 20.6           9.2           \n",
       "5 04  2021-04-10 31674       11783       165197 19.2           7.1           \n",
       "6 05  2021-04-10 28179        8853       141756 19.9           6.2           "
      ]
     },
     "metadata": {
      "tags": []
     },
     "output_type": "display_data"
    }
   ],
   "source": [
    "head(nbVaccinDep)"
   ]
  },
  {
   "cell_type": "markdown",
   "metadata": {
    "id": "GlYwE80fQvbE"
   },
   "source": [
    "On s'interesse pas au données"
   ]
  },
  {
   "cell_type": "code",
   "execution_count": null,
   "metadata": {
    "colab": {
     "base_uri": "https://localhost:8080/",
     "height": 34
    },
    "id": "K9t76ED8Qqxe",
    "outputId": "67d0caf1-3c66-4841-e43c-09be6d6c1409"
   },
   "outputs": [
    {
     "data": {
      "text/html": [
       "<style>\n",
       ".dl-inline {width: auto; margin:0; padding: 0}\n",
       ".dl-inline>dt, .dl-inline>dd {float: none; width: auto; display: inline-block}\n",
       ".dl-inline>dt::after {content: \":\\0020\"; padding-right: .5ex}\n",
       ".dl-inline>dt:not(:first-of-type) {padding-left: .5ex}\n",
       "</style><dl class=dl-inline><dt>dep</dt><dd>0</dd><dt>n_tot_dose1</dt><dd>0</dd><dt>n_tot_dose2</dt><dd>0</dd><dt>pop</dt><dd>3</dd></dl>\n"
      ],
      "text/latex": [
       "\\begin{description*}\n",
       "\\item[dep] 0\n",
       "\\item[n\\textbackslash{}\\_tot\\textbackslash{}\\_dose1] 0\n",
       "\\item[n\\textbackslash{}\\_tot\\textbackslash{}\\_dose2] 0\n",
       "\\item[pop] 3\n",
       "\\end{description*}\n"
      ],
      "text/markdown": [
       "dep\n",
       ":   0n_tot_dose1\n",
       ":   0n_tot_dose2\n",
       ":   0pop\n",
       ":   3\n",
       "\n"
      ],
      "text/plain": [
       "        dep n_tot_dose1 n_tot_dose2         pop \n",
       "          0           0           0           3 "
      ]
     },
     "metadata": {
      "tags": []
     },
     "output_type": "display_data"
    }
   ],
   "source": [
    "# suppression des colonne 6 et 7\n",
    "nbVaccinDep = subset(nbVaccinDep, select = -c(2,6,7))\n",
    "# Vérifier si on a des null\n",
    "colSums(sapply(nbVaccinDep,is.na))"
   ]
  },
  {
   "cell_type": "code",
   "execution_count": null,
   "metadata": {
    "colab": {
     "base_uri": "https://localhost:8080/"
    },
    "id": "C-H-UgfBR9v2",
    "outputId": "65659879-d87b-4654-c75e-42407aa2d1d3"
   },
   "outputs": [
    {
     "name": "stdout",
     "output_type": "stream",
     "text": [
      "'data.frame':\t106 obs. of  4 variables:\n",
      " $ dep        : chr  \"00\" \"01\" \"02\" \"03\" ...\n",
      " $ n_tot_dose1: int  2 85073 79669 68130 31674 28179 241860 57577 48976 30625 ...\n",
      " $ n_tot_dose2: int  2 26377 30389 30373 11783 8853 88418 21981 16382 10501 ...\n",
      " $ pop        : num  NA 656955 526050 331315 165197 ...\n"
     ]
    }
   ],
   "source": [
    "str(nbVaccinDep)"
   ]
  },
  {
   "cell_type": "code",
   "execution_count": null,
   "metadata": {
    "colab": {
     "base_uri": "https://localhost:8080/",
     "height": 151
    },
    "id": "MHGt6YzLZOA9",
    "outputId": "13ff885b-022c-4845-d594-e16c3613c6bd"
   },
   "outputs": [
    {
     "data": {
      "text/plain": [
       "     dep             n_tot_dose1      n_tot_dose2          pop         \n",
       " Length:106         Min.   :     1   Min.   :     0   Min.   :   9961  \n",
       " Class :character   1st Qu.: 44898   1st Qu.: 17268   1st Qu.: 278916  \n",
       " Mode  :character   Median : 78980   Median : 27784   Median : 520560  \n",
       "                    Mean   :101486   Mean   : 34787   Mean   : 651544  \n",
       "                    3rd Qu.:132524   3rd Qu.: 47086   3rd Qu.: 826741  \n",
       "                    Max.   :428467   Max.   :137565   Max.   :2588988  \n",
       "                                                      NA's   :3        "
      ]
     },
     "metadata": {
      "tags": []
     },
     "output_type": "display_data"
    }
   ],
   "source": [
    "c(nbVaccinDep)"
   ]
  },
  {
   "cell_type": "markdown",
   "metadata": {
    "id": "a1WZITVVLzOr"
   },
   "source": [
    "### Fond de solidarité de santé par département"
   ]
  },
  {
   "cell_type": "markdown",
   "metadata": {
    "id": "EyvShD9xSBxK"
   },
   "source": [
    "#### Présentation des données"
   ]
  },
  {
   "cell_type": "markdown",
   "metadata": {
    "id": "jb5LJXZ6WsXv"
   },
   "source": [
    "Dans le contexte de l'épidémie de COVID-19, l’Etat a mis en place, avec les Régions, un fonds de solidarité doté d’1,7 milliard d’euros pour le mois de mars 2020 qui permettra le versement d’une aide défiscalisée allant jusqu’à 1500 euros aux plus petites entreprises, aux indépendants, aux micro-entrepreneurs et aux professions libérales touchés par la crise du coronavirus. Ce fonds sera maintenu autant que durera l’urgence sanitaire.\n",
    "\n",
    "Pour obtenir d’autres informations relatives au fonds de solidarité, il est possible de consulter la page d’information disponible sur https://www.impots.gouv.fr/portail/.\n",
    "\n",
    "Description des données\n",
    "Le présent jeu de données contient les données exposées sur l'onglet \"fonds de solidarité\" du tableau de bord.\n",
    "\n",
    "**Ces données sont issues :**\n",
    "\n",
    "De la base Sirene des entreprises et de leurs établissements de l'INSEE ;\n",
    "Du code officiel géographique (COG) de l'INSEE ;\n",
    "De la nomenclature d'activités française de l'INSEE\n",
    "De la base de données des aides du fonds de solidarité opérée par la Direction Générale des Finances publiques (DGFIP) pour le volet 1.\n",
    "Les données informent, à l'échelle régionale et départementale, et pour les volets successifs d'attribution des aides (volet 1, volet 2 et volet 3 à venir) :\n",
    "\n",
    "le nombre d'aides accordées ;\n",
    "le montant total des aides accordées en euros ;\n",
    "le secteur d'activité des entreprises bénéficiaires (via une section du code NAF).\n",
    "À ce jour, les données du volet 1 du fonds de solidarité sont disponibles.\n",
    "\n",
    "Les données sont mises à jour sur une base quotidienne, ce qui correspond à la fréquence de mise à jour du tableau de bord et sont disponibles au format CSV.\n",
    "\n",
    "Le jeu de données a vocation à être enrichi dans les semaines à venir.\n",
    "\n",
    "\n",
    "Les jeux de données utilisés sont:\n",
    "\n",
    "Les données hospitalières relatives à l'épidémie du COVID-19 par département et sexe du patient : nombre de patients hospitalisés, nombre de personnes actuellement en réanimation ou soins intensifs, nombre de personnes actuellement en Soins de Suite et de Réadaptation (SSR) ou Unités de Soins de Longue Durée(USLD), nombre de personnes actuellement en hospitalisation conventionnelle, nombre actuellement de personnes hospitalisées dans un autre type de service ou nombre cumulé de personnes retournées à domicile, nombre cumulé de personnes décédées.\n",
    "\n",
    "Les données hospitalières relatives à l'épidémie du COVID-19 par région, et classe d'âge du patient : nombre de patients hospitalisés, nombre de personnes actuellement en réanimation ou soins intensifs, nombre de personnes actuellement en Soins de Suite et de Réadaptation (SSR) ou Unités de Soins de Longue Durée(USLD), nombre de personnes actuellement en hospitalisation conventionnelle, nombre actuellement de personnes hospitalisées dans un autre type de service, nombre cumulé de personnes retournées à domicile, nombre cumulé de personnes décédées.\n",
    "\n",
    "Les données hospitalières quotidiennes relatives à l'épidémie du COVID-19 par département : nombre quotidien de personnes nouvellement hospitalisées, nombre quotidien de nouvelles admissions en réanimation, nombre quotidien de personnes nouvellement décédées, nombre quotidien de nouveaux retours à domicile.\n",
    "\n",
    "Les données relatives aux établissements hospitaliers par département : nombre cumulé de services ayant déclaré au moins un cas.\n",
    "\n",
    "Les données relatives à les nouvelles admissions en réanimation par région : nombre de nouveaux patients admis en réanimation dans les 24 dernières heures."
   ]
  },
  {
   "cell_type": "markdown",
   "metadata": {
    "id": "_ezX8VbdXgY2"
   },
   "source": [
    "#### Préparation des données"
   ]
  },
  {
   "cell_type": "code",
   "execution_count": null,
   "metadata": {
    "colab": {
     "base_uri": "https://localhost:8080/"
    },
    "id": "7eZoRX56oE5E",
    "outputId": "1b66eacb-f94f-4cc0-ace7-d5ee5a2c5af8"
   },
   "outputs": [
    {
     "name": "stdout",
     "output_type": "stream",
     "text": [
      "'data.frame':\t1679 obs. of  11 variables:\n",
      " $ dispositif         : chr  \"Fonds de solidarité\" \"Fonds de solidarité\" \"Fonds de solidarité\" \"Fonds de solidarité\" ...\n",
      " $ volet              : chr  \"VOLET1\" \"VOLET1\" \"VOLET1\" \"VOLET1\" ...\n",
      " $ nombre_aides       : int  940 2222 145 5973 8342 1759 10432 924 386 1290 ...\n",
      " $ nombre_entreprises : int  301 757 53 2358 2562 394 1621 234 115 404 ...\n",
      " $ montant_total      : num  1915331 4263228 234667 9280745 18904870 ...\n",
      " $ reg                : int  84 84 84 84 84 84 84 84 84 84 ...\n",
      " $ libelle_region     : chr  \"Auvergne-Rhône-Alpes\" \"Auvergne-Rhône-Alpes\" \"Auvergne-Rhône-Alpes\" \"Auvergne-Rhône-Alpes\" ...\n",
      " $ dep                : chr  \"01\" \"01\" \"01\" \"01\" ...\n",
      " $ libelle_departement: chr  \"Ain\" \"Ain\" \"Ain\" \"Ain\" ...\n",
      " $ code_section       : chr  \"A\" \"C\" \"E\" \"F\" ...\n",
      " $ libelle_section    : chr  \"Agriculture, sylviculture et pêche\" \"Industrie manufacturière\" \"Production et distribution d'eau ; assainissement, gestion des déchets et dépollution\" \"Construction\" ...\n"
     ]
    }
   ],
   "source": [
    "str(DataCotisDep)"
   ]
  },
  {
   "cell_type": "markdown",
   "metadata": {
    "id": "CpMfTZg8hh_Q"
   },
   "source": [
    "On va prendre que les variables suivantes:"
   ]
  },
  {
   "cell_type": "code",
   "execution_count": null,
   "metadata": {
    "colab": {
     "base_uri": "https://localhost:8080/",
     "height": 288
    },
    "id": "oSzNNdenWUSX",
    "outputId": "66a21ea0-6af6-45ae-a57e-62e02e4a37de"
   },
   "outputs": [
    {
     "data": {
      "text/html": [
       "<table class=\"dataframe\">\n",
       "<caption>A data.frame: 6 × 5</caption>\n",
       "<thead>\n",
       "\t<tr><th></th><th scope=col>nombre_aides</th><th scope=col>montant_total</th><th scope=col>dep</th><th scope=col>libelle_departement</th><th scope=col>libelle_section</th></tr>\n",
       "\t<tr><th></th><th scope=col>&lt;int&gt;</th><th scope=col>&lt;dbl&gt;</th><th scope=col>&lt;chr&gt;</th><th scope=col>&lt;chr&gt;</th><th scope=col>&lt;chr&gt;</th></tr>\n",
       "</thead>\n",
       "<tbody>\n",
       "\t<tr><th scope=row>1</th><td> 940</td><td> 1915331</td><td>01</td><td>Ain</td><td>Agriculture, sylviculture et pêche                                                   </td></tr>\n",
       "\t<tr><th scope=row>2</th><td>2222</td><td> 4263228</td><td>01</td><td>Ain</td><td>Industrie manufacturière                                                             </td></tr>\n",
       "\t<tr><th scope=row>3</th><td> 145</td><td>  234667</td><td>01</td><td>Ain</td><td>Production et distribution d'eau ; assainissement, gestion des déchets et dépollution</td></tr>\n",
       "\t<tr><th scope=row>4</th><td>5973</td><td> 9280745</td><td>01</td><td>Ain</td><td>Construction                                                                         </td></tr>\n",
       "\t<tr><th scope=row>5</th><td>8342</td><td>18904870</td><td>01</td><td>Ain</td><td>Commerce                                                                             </td></tr>\n",
       "\t<tr><th scope=row>6</th><td>1759</td><td> 3528714</td><td>01</td><td>Ain</td><td>Transports et entreposage                                                            </td></tr>\n",
       "</tbody>\n",
       "</table>\n"
      ],
      "text/latex": [
       "A data.frame: 6 × 5\n",
       "\\begin{tabular}{r|lllll}\n",
       "  & nombre\\_aides & montant\\_total & dep & libelle\\_departement & libelle\\_section\\\\\n",
       "  & <int> & <dbl> & <chr> & <chr> & <chr>\\\\\n",
       "\\hline\n",
       "\t1 &  940 &  1915331 & 01 & Ain & Agriculture, sylviculture et pêche                                                   \\\\\n",
       "\t2 & 2222 &  4263228 & 01 & Ain & Industrie manufacturière                                                             \\\\\n",
       "\t3 &  145 &   234667 & 01 & Ain & Production et distribution d'eau ; assainissement, gestion des déchets et dépollution\\\\\n",
       "\t4 & 5973 &  9280745 & 01 & Ain & Construction                                                                         \\\\\n",
       "\t5 & 8342 & 18904870 & 01 & Ain & Commerce                                                                             \\\\\n",
       "\t6 & 1759 &  3528714 & 01 & Ain & Transports et entreposage                                                            \\\\\n",
       "\\end{tabular}\n"
      ],
      "text/markdown": [
       "\n",
       "A data.frame: 6 × 5\n",
       "\n",
       "| <!--/--> | nombre_aides &lt;int&gt; | montant_total &lt;dbl&gt; | dep &lt;chr&gt; | libelle_departement &lt;chr&gt; | libelle_section &lt;chr&gt; |\n",
       "|---|---|---|---|---|---|\n",
       "| 1 |  940 |  1915331 | 01 | Ain | Agriculture, sylviculture et pêche                                                    |\n",
       "| 2 | 2222 |  4263228 | 01 | Ain | Industrie manufacturière                                                              |\n",
       "| 3 |  145 |   234667 | 01 | Ain | Production et distribution d'eau ; assainissement, gestion des déchets et dépollution |\n",
       "| 4 | 5973 |  9280745 | 01 | Ain | Construction                                                                          |\n",
       "| 5 | 8342 | 18904870 | 01 | Ain | Commerce                                                                              |\n",
       "| 6 | 1759 |  3528714 | 01 | Ain | Transports et entreposage                                                             |\n",
       "\n"
      ],
      "text/plain": [
       "  nombre_aides montant_total dep libelle_departement\n",
       "1  940          1915331      01  Ain                \n",
       "2 2222          4263228      01  Ain                \n",
       "3  145           234667      01  Ain                \n",
       "4 5973          9280745      01  Ain                \n",
       "5 8342         18904870      01  Ain                \n",
       "6 1759          3528714      01  Ain                \n",
       "  libelle_section                                                                      \n",
       "1 Agriculture, sylviculture et pêche                                                   \n",
       "2 Industrie manufacturière                                                             \n",
       "3 Production et distribution d'eau ; assainissement, gestion des déchets et dépollution\n",
       "4 Construction                                                                         \n",
       "5 Commerce                                                                             \n",
       "6 Transports et entreposage                                                            "
      ]
     },
     "metadata": {
      "tags": []
     },
     "output_type": "display_data"
    }
   ],
   "source": [
    "DataCotisDep = subset(DataCotisDep, select = -c(1,2,4,6,7,10))\n",
    "head(DataCotisDep)"
   ]
  },
  {
   "cell_type": "markdown",
   "metadata": {
    "id": "lj7Qd7y0hvAe"
   },
   "source": [
    "Ce qui nous intéresse c'est que les montants lié à la santé."
   ]
  },
  {
   "cell_type": "code",
   "execution_count": null,
   "metadata": {
    "colab": {
     "base_uri": "https://localhost:8080/",
     "height": 372
    },
    "id": "RVcjRHXF6-YX",
    "outputId": "8de3c582-fa15-4d3a-86fb-1a6c445ab2e0"
   },
   "outputs": [
    {
     "data": {
      "text/html": [
       "<table class=\"dataframe\">\n",
       "<caption>A data.frame: 6 × 5</caption>\n",
       "<thead>\n",
       "\t<tr><th></th><th scope=col>nombre_aides</th><th scope=col>montant_total</th><th scope=col>dep</th><th scope=col>libelle_departement</th><th scope=col>libelle_section</th></tr>\n",
       "\t<tr><th></th><th scope=col>&lt;int&gt;</th><th scope=col>&lt;dbl&gt;</th><th scope=col>&lt;chr&gt;</th><th scope=col>&lt;chr&gt;</th><th scope=col>&lt;fct&gt;</th></tr>\n",
       "</thead>\n",
       "<tbody>\n",
       "\t<tr><th scope=row>1</th><td>3144</td><td>4069561</td><td>01</td><td>Ain        </td><td>Santé humaine et action sociale</td></tr>\n",
       "\t<tr><th scope=row>2</th><td>1558</td><td>2051441</td><td>03</td><td>Allier     </td><td>Santé humaine et action sociale</td></tr>\n",
       "\t<tr><th scope=row>3</th><td>2106</td><td>2612907</td><td>07</td><td>Ardèche    </td><td>Santé humaine et action sociale</td></tr>\n",
       "\t<tr><th scope=row>4</th><td> 562</td><td> 787557</td><td>15</td><td>Cantal     </td><td>Santé humaine et action sociale</td></tr>\n",
       "\t<tr><th scope=row>5</th><td>4096</td><td>5394170</td><td>26</td><td>Drôme      </td><td>Santé humaine et action sociale</td></tr>\n",
       "\t<tr><th scope=row>6</th><td>1183</td><td>1554682</td><td>43</td><td>Haute-Loire</td><td>Santé humaine et action sociale</td></tr>\n",
       "</tbody>\n",
       "</table>\n"
      ],
      "text/latex": [
       "A data.frame: 6 × 5\n",
       "\\begin{tabular}{r|lllll}\n",
       "  & nombre\\_aides & montant\\_total & dep & libelle\\_departement & libelle\\_section\\\\\n",
       "  & <int> & <dbl> & <chr> & <chr> & <fct>\\\\\n",
       "\\hline\n",
       "\t1 & 3144 & 4069561 & 01 & Ain         & Santé humaine et action sociale\\\\\n",
       "\t2 & 1558 & 2051441 & 03 & Allier      & Santé humaine et action sociale\\\\\n",
       "\t3 & 2106 & 2612907 & 07 & Ardèche     & Santé humaine et action sociale\\\\\n",
       "\t4 &  562 &  787557 & 15 & Cantal      & Santé humaine et action sociale\\\\\n",
       "\t5 & 4096 & 5394170 & 26 & Drôme       & Santé humaine et action sociale\\\\\n",
       "\t6 & 1183 & 1554682 & 43 & Haute-Loire & Santé humaine et action sociale\\\\\n",
       "\\end{tabular}\n"
      ],
      "text/markdown": [
       "\n",
       "A data.frame: 6 × 5\n",
       "\n",
       "| <!--/--> | nombre_aides &lt;int&gt; | montant_total &lt;dbl&gt; | dep &lt;chr&gt; | libelle_departement &lt;chr&gt; | libelle_section &lt;fct&gt; |\n",
       "|---|---|---|---|---|---|\n",
       "| 1 | 3144 | 4069561 | 01 | Ain         | Santé humaine et action sociale |\n",
       "| 2 | 1558 | 2051441 | 03 | Allier      | Santé humaine et action sociale |\n",
       "| 3 | 2106 | 2612907 | 07 | Ardèche     | Santé humaine et action sociale |\n",
       "| 4 |  562 |  787557 | 15 | Cantal      | Santé humaine et action sociale |\n",
       "| 5 | 4096 | 5394170 | 26 | Drôme       | Santé humaine et action sociale |\n",
       "| 6 | 1183 | 1554682 | 43 | Haute-Loire | Santé humaine et action sociale |\n",
       "\n"
      ],
      "text/plain": [
       "  nombre_aides montant_total dep libelle_departement\n",
       "1 3144         4069561       01  Ain                \n",
       "2 1558         2051441       03  Allier             \n",
       "3 2106         2612907       07  Ardèche            \n",
       "4  562          787557       15  Cantal             \n",
       "5 4096         5394170       26  Drôme              \n",
       "6 1183         1554682       43  Haute-Loire        \n",
       "  libelle_section                \n",
       "1 Santé humaine et action sociale\n",
       "2 Santé humaine et action sociale\n",
       "3 Santé humaine et action sociale\n",
       "4 Santé humaine et action sociale\n",
       "5 Santé humaine et action sociale\n",
       "6 Santé humaine et action sociale"
      ]
     },
     "metadata": {
      "tags": []
     },
     "output_type": "display_data"
    }
   ],
   "source": [
    "DataCotisDep$libelle_section=as.factor(DataCotisDep$libelle_section)\n",
    "DataCotisSanteDep=filter(DataCotisDep,libelle_section  == \"Santé humaine et action sociale\")\n",
    "head(DataCotisSanteDep)"
   ]
  },
  {
   "cell_type": "code",
   "execution_count": null,
   "metadata": {
    "colab": {
     "base_uri": "https://localhost:8080/"
    },
    "id": "ixeqkrRH6nGd",
    "outputId": "d7de244b-7c97-4695-dd08-466a56882ca7"
   },
   "outputs": [
    {
     "name": "stdout",
     "output_type": "stream",
     "text": [
      "'data.frame':\t101 obs. of  4 variables:\n",
      " $ nombre_aides       : int  3144 1558 2106 562 4096 1183 6703 9128 4103 3708 ...\n",
      " $ montant_total      : num  4069561 2051441 2612907 787557 5394170 ...\n",
      " $ dep                : chr  \"01\" \"03\" \"07\" \"15\" ...\n",
      " $ libelle_departement: chr  \"Ain\" \"Allier\" \"Ardèche\" \"Cantal\" ...\n"
     ]
    }
   ],
   "source": [
    "DataCotisSanteDep = subset(DataCotisSanteDep, select = -c(5))\n",
    "str(DataCotisSanteDep)"
   ]
  },
  {
   "cell_type": "code",
   "execution_count": null,
   "metadata": {
    "colab": {
     "base_uri": "https://localhost:8080/",
     "height": 50
    },
    "id": "Uj2ftHmuY8-R",
    "outputId": "c04e4504-97ca-4fe3-f29b-9dad75f1e667"
   },
   "outputs": [
    {
     "data": {
      "text/html": [
       "<style>\n",
       ".dl-inline {width: auto; margin:0; padding: 0}\n",
       ".dl-inline>dt, .dl-inline>dd {float: none; width: auto; display: inline-block}\n",
       ".dl-inline>dt::after {content: \":\\0020\"; padding-right: .5ex}\n",
       ".dl-inline>dt:not(:first-of-type) {padding-left: .5ex}\n",
       "</style><dl class=dl-inline><dt>dep</dt><dd>0</dd><dt>jour</dt><dd>0</dd><dt>hosp</dt><dd>0</dd><dt>rea</dt><dd>0</dd><dt>HospConv</dt><dd>36461</dd><dt>SSR_USLD</dt><dd>36461</dd><dt>autres</dt><dd>36461</dd><dt>rad</dt><dd>0</dd><dt>dc</dt><dd>0</dd></dl>\n"
      ],
      "text/latex": [
       "\\begin{description*}\n",
       "\\item[dep] 0\n",
       "\\item[jour] 0\n",
       "\\item[hosp] 0\n",
       "\\item[rea] 0\n",
       "\\item[HospConv] 36461\n",
       "\\item[SSR\\textbackslash{}\\_USLD] 36461\n",
       "\\item[autres] 36461\n",
       "\\item[rad] 0\n",
       "\\item[dc] 0\n",
       "\\end{description*}\n"
      ],
      "text/markdown": [
       "dep\n",
       ":   0jour\n",
       ":   0hosp\n",
       ":   0rea\n",
       ":   0HospConv\n",
       ":   36461SSR_USLD\n",
       ":   36461autres\n",
       ":   36461rad\n",
       ":   0dc\n",
       ":   0\n",
       "\n"
      ],
      "text/plain": [
       "     dep     jour     hosp      rea HospConv SSR_USLD   autres      rad \n",
       "       0        0        0        0    36461    36461    36461        0 \n",
       "      dc \n",
       "       0 "
      ]
     },
     "metadata": {
      "tags": []
     },
     "output_type": "display_data"
    }
   ],
   "source": [
    "colSums(sapply(mainData,is.na))"
   ]
  },
  {
   "cell_type": "markdown",
   "metadata": {
    "id": "F-JkmakDso47"
   },
   "source": [
    "### Données température\n",
    "\n",
    "\n"
   ]
  },
  {
   "cell_type": "markdown",
   "metadata": {
    "id": "1UhDwCtVBwwu"
   },
   "source": [
    "Ce document nous donne la température journalière pour chaque département français.  Il nous donne la température minimum, la temparture maximum et la température moyenne pour chaque journée journée."
   ]
  },
  {
   "cell_type": "code",
   "execution_count": null,
   "metadata": {
    "colab": {
     "base_uri": "https://localhost:8080/",
     "height": 271
    },
    "id": "D2bMQKMkAQo5",
    "outputId": "4a3ffbcd-dba5-4aec-ed7d-5b36be03d7de"
   },
   "outputs": [
    {
     "data": {
      "text/html": [
       "<table class=\"dataframe\">\n",
       "<caption>A data.frame: 6 × 6</caption>\n",
       "<thead>\n",
       "\t<tr><th></th><th scope=col>jour</th><th scope=col>dep</th><th scope=col>nom_dep</th><th scope=col>tmin</th><th scope=col>tmax</th><th scope=col>tmoy</th></tr>\n",
       "\t<tr><th></th><th scope=col>&lt;chr&gt;</th><th scope=col>&lt;chr&gt;</th><th scope=col>&lt;chr&gt;</th><th scope=col>&lt;dbl&gt;</th><th scope=col>&lt;dbl&gt;</th><th scope=col>&lt;dbl&gt;</th></tr>\n",
       "</thead>\n",
       "<tbody>\n",
       "\t<tr><th scope=row>1</th><td>2018-04-15</td><td>23</td><td>Creuse         </td><td>1.50</td><td>17.80</td><td> 9.65</td></tr>\n",
       "\t<tr><th scope=row>2</th><td>2018-04-15</td><td>24</td><td>Dordogne       </td><td>3.45</td><td>20.20</td><td>11.82</td></tr>\n",
       "\t<tr><th scope=row>3</th><td>2018-04-15</td><td>30</td><td>Gard           </td><td>7.90</td><td>18.73</td><td>13.32</td></tr>\n",
       "\t<tr><th scope=row>4</th><td>2018-04-15</td><td>35</td><td>Ille-et-Vilaine</td><td>8.40</td><td>16.55</td><td>12.48</td></tr>\n",
       "\t<tr><th scope=row>5</th><td>2018-04-15</td><td>37</td><td>Indre-et-Loire </td><td>7.20</td><td>18.30</td><td>12.75</td></tr>\n",
       "\t<tr><th scope=row>6</th><td>2018-04-15</td><td>49</td><td>Maine-et-Loire </td><td>8.20</td><td>17.10</td><td>12.65</td></tr>\n",
       "</tbody>\n",
       "</table>\n"
      ],
      "text/latex": [
       "A data.frame: 6 × 6\n",
       "\\begin{tabular}{r|llllll}\n",
       "  & jour & dep & nom\\_dep & tmin & tmax & tmoy\\\\\n",
       "  & <chr> & <chr> & <chr> & <dbl> & <dbl> & <dbl>\\\\\n",
       "\\hline\n",
       "\t1 & 2018-04-15 & 23 & Creuse          & 1.50 & 17.80 &  9.65\\\\\n",
       "\t2 & 2018-04-15 & 24 & Dordogne        & 3.45 & 20.20 & 11.82\\\\\n",
       "\t3 & 2018-04-15 & 30 & Gard            & 7.90 & 18.73 & 13.32\\\\\n",
       "\t4 & 2018-04-15 & 35 & Ille-et-Vilaine & 8.40 & 16.55 & 12.48\\\\\n",
       "\t5 & 2018-04-15 & 37 & Indre-et-Loire  & 7.20 & 18.30 & 12.75\\\\\n",
       "\t6 & 2018-04-15 & 49 & Maine-et-Loire  & 8.20 & 17.10 & 12.65\\\\\n",
       "\\end{tabular}\n"
      ],
      "text/markdown": [
       "\n",
       "A data.frame: 6 × 6\n",
       "\n",
       "| <!--/--> | jour &lt;chr&gt; | dep &lt;chr&gt; | nom_dep &lt;chr&gt; | tmin &lt;dbl&gt; | tmax &lt;dbl&gt; | tmoy &lt;dbl&gt; |\n",
       "|---|---|---|---|---|---|---|\n",
       "| 1 | 2018-04-15 | 23 | Creuse          | 1.50 | 17.80 |  9.65 |\n",
       "| 2 | 2018-04-15 | 24 | Dordogne        | 3.45 | 20.20 | 11.82 |\n",
       "| 3 | 2018-04-15 | 30 | Gard            | 7.90 | 18.73 | 13.32 |\n",
       "| 4 | 2018-04-15 | 35 | Ille-et-Vilaine | 8.40 | 16.55 | 12.48 |\n",
       "| 5 | 2018-04-15 | 37 | Indre-et-Loire  | 7.20 | 18.30 | 12.75 |\n",
       "| 6 | 2018-04-15 | 49 | Maine-et-Loire  | 8.20 | 17.10 | 12.65 |\n",
       "\n"
      ],
      "text/plain": [
       "  jour       dep nom_dep         tmin tmax  tmoy \n",
       "1 2018-04-15 23  Creuse          1.50 17.80  9.65\n",
       "2 2018-04-15 24  Dordogne        3.45 20.20 11.82\n",
       "3 2018-04-15 30  Gard            7.90 18.73 13.32\n",
       "4 2018-04-15 35  Ille-et-Vilaine 8.40 16.55 12.48\n",
       "5 2018-04-15 37  Indre-et-Loire  7.20 18.30 12.75\n",
       "6 2018-04-15 49  Maine-et-Loire  8.20 17.10 12.65"
      ]
     },
     "metadata": {
      "tags": []
     },
     "output_type": "display_data"
    }
   ],
   "source": [
    "colnames(dataTemp) = c(\"jour\",\"dep\",\"nom_dep\",\"tmin\",\"tmax\",\"tmoy\")\n",
    "head(dataTemp)"
   ]
  },
  {
   "cell_type": "code",
   "execution_count": null,
   "metadata": {
    "colab": {
     "base_uri": "https://localhost:8080/",
     "height": 34
    },
    "id": "ZYKLaqG0IQao",
    "outputId": "937a88fa-5a14-4503-892a-7b15f2f2e1d9"
   },
   "outputs": [
    {
     "data": {
      "text/html": [
       "<style>\n",
       ".dl-inline {width: auto; margin:0; padding: 0}\n",
       ".dl-inline>dt, .dl-inline>dd {float: none; width: auto; display: inline-block}\n",
       ".dl-inline>dt::after {content: \":\\0020\"; padding-right: .5ex}\n",
       ".dl-inline>dt:not(:first-of-type) {padding-left: .5ex}\n",
       "</style><dl class=dl-inline><dt>jour</dt><dd>0</dd><dt>dep</dt><dd>0</dd><dt>nom_dep</dt><dd>0</dd><dt>tmin</dt><dd>0</dd><dt>tmax</dt><dd>0</dd><dt>tmoy</dt><dd>0</dd></dl>\n"
      ],
      "text/latex": [
       "\\begin{description*}\n",
       "\\item[jour] 0\n",
       "\\item[dep] 0\n",
       "\\item[nom\\textbackslash{}\\_dep] 0\n",
       "\\item[tmin] 0\n",
       "\\item[tmax] 0\n",
       "\\item[tmoy] 0\n",
       "\\end{description*}\n"
      ],
      "text/markdown": [
       "jour\n",
       ":   0dep\n",
       ":   0nom_dep\n",
       ":   0tmin\n",
       ":   0tmax\n",
       ":   0tmoy\n",
       ":   0\n",
       "\n"
      ],
      "text/plain": [
       "   jour     dep nom_dep    tmin    tmax    tmoy \n",
       "      0       0       0       0       0       0 "
      ]
     },
     "metadata": {
      "tags": []
     },
     "output_type": "display_data"
    }
   ],
   "source": [
    "colSums(sapply(dataTemp,is.na))"
   ]
  },
  {
   "cell_type": "code",
   "execution_count": null,
   "metadata": {
    "colab": {
     "base_uri": "https://localhost:8080/"
    },
    "id": "-m-cFxpUIRap",
    "outputId": "c705f960-22d3-4d09-c825-934e4e294ff3"
   },
   "outputs": [
    {
     "name": "stdout",
     "output_type": "stream",
     "text": [
      "'data.frame':\t113862 obs. of  6 variables:\n",
      " $ jour   : chr  \"2018-04-15\" \"2018-04-15\" \"2018-04-15\" \"2018-04-15\" ...\n",
      " $ dep    : chr  \"23\" \"24\" \"30\" \"35\" ...\n",
      " $ nom_dep: chr  \"Creuse\" \"Dordogne\" \"Gard\" \"Ille-et-Vilaine\" ...\n",
      " $ tmin   : num  1.5 3.45 7.9 8.4 7.2 8.2 7 4 6.4 6.7 ...\n",
      " $ tmax   : num  17.8 20.2 18.7 16.6 18.3 ...\n",
      " $ tmoy   : num  9.65 11.82 13.32 12.48 12.75 ...\n"
     ]
    }
   ],
   "source": [
    "str(dataTemp)"
   ]
  },
  {
   "cell_type": "markdown",
   "metadata": {
    "id": "K1Z9nuMyNpRv"
   },
   "source": [
    "\n",
    "### Table de fait"
   ]
  },
  {
   "cell_type": "markdown",
   "metadata": {
    "id": "9iW9lJ8uh_zb"
   },
   "source": [
    "Dans cette section on va créer notre table de fait qui va présenter notre datamart. Cette table de fait va être utilisée dans la partie suivante, lié à la visualisation et au modèle splinetree.\n",
    "Les tables suivantes vont présenter les tables de base utilisé par la création de la table de fait."
   ]
  },
  {
   "cell_type": "code",
   "execution_count": null,
   "metadata": {
    "colab": {
     "base_uri": "https://localhost:8080/"
    },
    "id": "BvV08YrbaIYH",
    "outputId": "0496c71e-5229-481e-c135-b54c41d9a753"
   },
   "outputs": [
    {
     "name": "stdout",
     "output_type": "stream",
     "text": [
      "'data.frame':\t39390 obs. of  9 variables:\n",
      " $ dep     : chr  \"01\" \"02\" \"03\" \"04\" ...\n",
      " $ jour    : chr  \"2020-03-18\" \"2020-03-18\" \"2020-03-18\" \"2020-03-18\" ...\n",
      " $ hosp    : int  2 41 4 3 8 25 12 0 1 5 ...\n",
      " $ rea     : int  0 10 0 1 1 1 1 0 1 0 ...\n",
      " $ HospConv: int  NA NA NA NA NA NA NA NA NA NA ...\n",
      " $ SSR_USLD: int  NA NA NA NA NA NA NA NA NA NA ...\n",
      " $ autres  : int  NA NA NA NA NA NA NA NA NA NA ...\n",
      " $ rad     : int  1 18 1 2 9 47 0 1 2 0 ...\n",
      " $ dc      : int  0 11 0 0 0 2 0 0 0 0 ...\n"
     ]
    }
   ],
   "source": [
    "str(mainData)"
   ]
  },
  {
   "cell_type": "code",
   "execution_count": null,
   "metadata": {
    "colab": {
     "base_uri": "https://localhost:8080/"
    },
    "id": "OVGN1-ufmBPe",
    "outputId": "315531a9-bedf-4a4f-f499-14f8da3923f5"
   },
   "outputs": [
    {
     "name": "stdout",
     "output_type": "stream",
     "text": [
      "'data.frame':\t106 obs. of  4 variables:\n",
      " $ dep        : chr  \"00\" \"01\" \"02\" \"03\" ...\n",
      " $ n_tot_dose1: int  2 85073 79669 68130 31674 28179 241860 57577 48976 30625 ...\n",
      " $ n_tot_dose2: int  2 26377 30389 30373 11783 8853 88418 21981 16382 10501 ...\n",
      " $ pop        : num  NA 656955 526050 331315 165197 ...\n"
     ]
    }
   ],
   "source": [
    "str(nbVaccinDep)"
   ]
  },
  {
   "cell_type": "code",
   "execution_count": null,
   "metadata": {
    "colab": {
     "base_uri": "https://localhost:8080/"
    },
    "id": "74i5NQoXmQuK",
    "outputId": "dfca5918-8fa4-4b67-abf3-5bfdc8dd966c"
   },
   "outputs": [
    {
     "name": "stdout",
     "output_type": "stream",
     "text": [
      "'data.frame':\t101 obs. of  4 variables:\n",
      " $ nombre_aides       : int  3144 1558 2106 562 4096 1183 6703 9128 4103 3708 ...\n",
      " $ montant_total      : num  4069561 2051441 2612907 787557 5394170 ...\n",
      " $ dep                : chr  \"01\" \"03\" \"07\" \"15\" ...\n",
      " $ libelle_departement: chr  \"Ain\" \"Allier\" \"Ardèche\" \"Cantal\" ...\n"
     ]
    }
   ],
   "source": [
    "str(DataCotisSanteDep)"
   ]
  },
  {
   "cell_type": "code",
   "execution_count": null,
   "metadata": {
    "colab": {
     "base_uri": "https://localhost:8080/"
    },
    "id": "36bmS05UCOkN",
    "outputId": "0e8920fc-b5ae-41a2-df2a-b4cbbf25fe0a"
   },
   "outputs": [
    {
     "name": "stdout",
     "output_type": "stream",
     "text": [
      "'data.frame':\t113862 obs. of  6 variables:\n",
      " $ jour   : chr  \"2018-04-15\" \"2018-04-15\" \"2018-04-15\" \"2018-04-15\" ...\n",
      " $ dep    : chr  \"23\" \"24\" \"30\" \"35\" ...\n",
      " $ nom_dep: chr  \"Creuse\" \"Dordogne\" \"Gard\" \"Ille-et-Vilaine\" ...\n",
      " $ tmin   : num  1.5 3.45 7.9 8.4 7.2 8.2 7 4 6.4 6.7 ...\n",
      " $ tmax   : num  17.8 20.2 18.7 16.6 18.3 ...\n",
      " $ tmoy   : num  9.65 11.82 13.32 12.48 12.75 ...\n"
     ]
    }
   ],
   "source": [
    "str(dataTemp)"
   ]
  },
  {
   "cell_type": "markdown",
   "metadata": {
    "id": "-hbuj__xi0Et"
   },
   "source": [
    "Le code suivant va nous permettre à fusionner toutes les varibale en fesant un join sur la colonne \"dep\" et \"Jour\"."
   ]
  },
  {
   "cell_type": "code",
   "execution_count": null,
   "metadata": {
    "colab": {
     "base_uri": "https://localhost:8080/"
    },
    "id": "d2ipC3v1nCZo",
    "outputId": "895d49c8-4545-487d-ebe2-acffec916730"
   },
   "outputs": [
    {
     "name": "stdout",
     "output_type": "stream",
     "text": [
      "'data.frame':\t39390 obs. of  19 variables:\n",
      " $ dep                : chr  \"01\" \"02\" \"03\" \"04\" ...\n",
      " $ jour               : chr  \"2020-03-18\" \"2020-03-18\" \"2020-03-18\" \"2020-03-18\" ...\n",
      " $ hosp               : int  2 41 4 3 8 25 12 0 1 5 ...\n",
      " $ rea                : int  0 10 0 1 1 1 1 0 1 0 ...\n",
      " $ HospConv           : int  NA NA NA NA NA NA NA NA NA NA ...\n",
      " $ SSR_USLD           : int  NA NA NA NA NA NA NA NA NA NA ...\n",
      " $ autres             : int  NA NA NA NA NA NA NA NA NA NA ...\n",
      " $ rad                : int  1 18 1 2 9 47 0 1 2 0 ...\n",
      " $ dc                 : int  0 11 0 0 0 2 0 0 0 0 ...\n",
      " $ n_tot_dose1        : int  85073 79669 68130 31674 28179 241860 57577 48976 30625 54127 ...\n",
      " $ n_tot_dose2        : int  26377 30389 30373 11783 8853 88418 21981 16382 10501 19043 ...\n",
      " $ pop                : num  656955 526050 331315 165197 141756 ...\n",
      " $ nombre_aides       : int  3144 1286 1558 1234 1564 9967 2106 880 837 1253 ...\n",
      " $ montant_total      : num  4069561 1866145 2051441 1667479 2164480 ...\n",
      " $ libelle_departement: chr  \"Ain\" \"Aisne\" \"Allier\" \"Alpes-de-Haute-Provence\" ...\n",
      " $ nom_dep            : chr  \"Ain\" \"Aisne\" \"Allier\" \"Alpes-de-Haute-Provence\" ...\n",
      " $ tmin               : num  3.4 4.4 1.3 1.7 2.4 8.57 4.6 0.6 6.4 6.7 ...\n",
      " $ tmax               : num  19.3 17 19.9 19.8 20.2 ...\n",
      " $ tmoy               : num  11.3 10.7 10.6 10.8 11.3 ...\n"
     ]
    }
   ],
   "source": [
    "# Join entre mainData et nbVaccinDep, DataCotisSanteDep et dataTemp\n",
    "dataf= mainData %>% left_join(nbVaccinDep, by=\"dep\")\n",
    "dataf= dataf %>% left_join(DataCotisSanteDep, by=\"dep\")\n",
    "\n",
    "dataf = dataf %>% left_join(dataTemp, by=c(\"dep\",\"jour\"))\n",
    "dataf=as.data.frame(dataf)\n",
    "str(dataf)"
   ]
  },
  {
   "cell_type": "code",
   "execution_count": null,
   "metadata": {
    "colab": {
     "base_uri": "https://localhost:8080/",
     "height": 409
    },
    "id": "2IWZ6eaH7HkM",
    "outputId": "72f57e4d-ab0f-449b-88ad-1b01f9b94c3c"
   },
   "outputs": [
    {
     "data": {
      "text/html": [
       "<table class=\"dataframe\">\n",
       "<caption>A data.frame: 6 × 19</caption>\n",
       "<thead>\n",
       "\t<tr><th></th><th scope=col>dep</th><th scope=col>jour</th><th scope=col>hosp</th><th scope=col>rea</th><th scope=col>HospConv</th><th scope=col>SSR_USLD</th><th scope=col>autres</th><th scope=col>rad</th><th scope=col>dc</th><th scope=col>n_tot_dose1</th><th scope=col>n_tot_dose2</th><th scope=col>pop</th><th scope=col>nombre_aides</th><th scope=col>montant_total</th><th scope=col>libelle_departement</th><th scope=col>nom_dep</th><th scope=col>tmin</th><th scope=col>tmax</th><th scope=col>tmoy</th></tr>\n",
       "\t<tr><th></th><th scope=col>&lt;chr&gt;</th><th scope=col>&lt;chr&gt;</th><th scope=col>&lt;int&gt;</th><th scope=col>&lt;int&gt;</th><th scope=col>&lt;int&gt;</th><th scope=col>&lt;int&gt;</th><th scope=col>&lt;int&gt;</th><th scope=col>&lt;int&gt;</th><th scope=col>&lt;int&gt;</th><th scope=col>&lt;int&gt;</th><th scope=col>&lt;int&gt;</th><th scope=col>&lt;dbl&gt;</th><th scope=col>&lt;int&gt;</th><th scope=col>&lt;dbl&gt;</th><th scope=col>&lt;chr&gt;</th><th scope=col>&lt;chr&gt;</th><th scope=col>&lt;dbl&gt;</th><th scope=col>&lt;dbl&gt;</th><th scope=col>&lt;dbl&gt;</th></tr>\n",
       "</thead>\n",
       "<tbody>\n",
       "\t<tr><th scope=row>1</th><td>01</td><td>2020-03-18</td><td> 2</td><td> 0</td><td>NA</td><td>NA</td><td>NA</td><td> 1</td><td> 0</td><td> 85073</td><td>26377</td><td> 656955</td><td>3144</td><td> 4069561</td><td>Ain                    </td><td>Ain                    </td><td>3.40</td><td>19.30</td><td>11.35</td></tr>\n",
       "\t<tr><th scope=row>2</th><td>02</td><td>2020-03-18</td><td>41</td><td>10</td><td>NA</td><td>NA</td><td>NA</td><td>18</td><td>11</td><td> 79669</td><td>30389</td><td> 526050</td><td>1286</td><td> 1866145</td><td>Aisne                  </td><td>Aisne                  </td><td>4.40</td><td>17.00</td><td>10.70</td></tr>\n",
       "\t<tr><th scope=row>3</th><td>03</td><td>2020-03-18</td><td> 4</td><td> 0</td><td>NA</td><td>NA</td><td>NA</td><td> 1</td><td> 0</td><td> 68130</td><td>30373</td><td> 331315</td><td>1558</td><td> 2051441</td><td>Allier                 </td><td>Allier                 </td><td>1.30</td><td>19.90</td><td>10.60</td></tr>\n",
       "\t<tr><th scope=row>4</th><td>04</td><td>2020-03-18</td><td> 3</td><td> 1</td><td>NA</td><td>NA</td><td>NA</td><td> 2</td><td> 0</td><td> 31674</td><td>11783</td><td> 165197</td><td>1234</td><td> 1667479</td><td>Alpes-de-Haute-Provence</td><td>Alpes-de-Haute-Provence</td><td>1.70</td><td>19.80</td><td>10.75</td></tr>\n",
       "\t<tr><th scope=row>5</th><td>05</td><td>2020-03-18</td><td> 8</td><td> 1</td><td>NA</td><td>NA</td><td>NA</td><td> 9</td><td> 0</td><td> 28179</td><td> 8853</td><td> 141756</td><td>1564</td><td> 2164480</td><td>Hautes-Alpes           </td><td>Hautes-Alpes           </td><td>2.40</td><td>20.20</td><td>11.30</td></tr>\n",
       "\t<tr><th scope=row>6</th><td>06</td><td>2020-03-18</td><td>25</td><td> 1</td><td>NA</td><td>NA</td><td>NA</td><td>47</td><td> 2</td><td>241860</td><td>88418</td><td>1079396</td><td>9967</td><td>13158114</td><td>Alpes-Maritimes        </td><td>Alpes-Maritimes        </td><td>8.57</td><td>16.41</td><td>12.49</td></tr>\n",
       "</tbody>\n",
       "</table>\n"
      ],
      "text/latex": [
       "A data.frame: 6 × 19\n",
       "\\begin{tabular}{r|lllllllllllllllllll}\n",
       "  & dep & jour & hosp & rea & HospConv & SSR\\_USLD & autres & rad & dc & n\\_tot\\_dose1 & n\\_tot\\_dose2 & pop & nombre\\_aides & montant\\_total & libelle\\_departement & nom\\_dep & tmin & tmax & tmoy\\\\\n",
       "  & <chr> & <chr> & <int> & <int> & <int> & <int> & <int> & <int> & <int> & <int> & <int> & <dbl> & <int> & <dbl> & <chr> & <chr> & <dbl> & <dbl> & <dbl>\\\\\n",
       "\\hline\n",
       "\t1 & 01 & 2020-03-18 &  2 &  0 & NA & NA & NA &  1 &  0 &  85073 & 26377 &  656955 & 3144 &  4069561 & Ain                     & Ain                     & 3.40 & 19.30 & 11.35\\\\\n",
       "\t2 & 02 & 2020-03-18 & 41 & 10 & NA & NA & NA & 18 & 11 &  79669 & 30389 &  526050 & 1286 &  1866145 & Aisne                   & Aisne                   & 4.40 & 17.00 & 10.70\\\\\n",
       "\t3 & 03 & 2020-03-18 &  4 &  0 & NA & NA & NA &  1 &  0 &  68130 & 30373 &  331315 & 1558 &  2051441 & Allier                  & Allier                  & 1.30 & 19.90 & 10.60\\\\\n",
       "\t4 & 04 & 2020-03-18 &  3 &  1 & NA & NA & NA &  2 &  0 &  31674 & 11783 &  165197 & 1234 &  1667479 & Alpes-de-Haute-Provence & Alpes-de-Haute-Provence & 1.70 & 19.80 & 10.75\\\\\n",
       "\t5 & 05 & 2020-03-18 &  8 &  1 & NA & NA & NA &  9 &  0 &  28179 &  8853 &  141756 & 1564 &  2164480 & Hautes-Alpes            & Hautes-Alpes            & 2.40 & 20.20 & 11.30\\\\\n",
       "\t6 & 06 & 2020-03-18 & 25 &  1 & NA & NA & NA & 47 &  2 & 241860 & 88418 & 1079396 & 9967 & 13158114 & Alpes-Maritimes         & Alpes-Maritimes         & 8.57 & 16.41 & 12.49\\\\\n",
       "\\end{tabular}\n"
      ],
      "text/markdown": [
       "\n",
       "A data.frame: 6 × 19\n",
       "\n",
       "| <!--/--> | dep &lt;chr&gt; | jour &lt;chr&gt; | hosp &lt;int&gt; | rea &lt;int&gt; | HospConv &lt;int&gt; | SSR_USLD &lt;int&gt; | autres &lt;int&gt; | rad &lt;int&gt; | dc &lt;int&gt; | n_tot_dose1 &lt;int&gt; | n_tot_dose2 &lt;int&gt; | pop &lt;dbl&gt; | nombre_aides &lt;int&gt; | montant_total &lt;dbl&gt; | libelle_departement &lt;chr&gt; | nom_dep &lt;chr&gt; | tmin &lt;dbl&gt; | tmax &lt;dbl&gt; | tmoy &lt;dbl&gt; |\n",
       "|---|---|---|---|---|---|---|---|---|---|---|---|---|---|---|---|---|---|---|---|\n",
       "| 1 | 01 | 2020-03-18 |  2 |  0 | NA | NA | NA |  1 |  0 |  85073 | 26377 |  656955 | 3144 |  4069561 | Ain                     | Ain                     | 3.40 | 19.30 | 11.35 |\n",
       "| 2 | 02 | 2020-03-18 | 41 | 10 | NA | NA | NA | 18 | 11 |  79669 | 30389 |  526050 | 1286 |  1866145 | Aisne                   | Aisne                   | 4.40 | 17.00 | 10.70 |\n",
       "| 3 | 03 | 2020-03-18 |  4 |  0 | NA | NA | NA |  1 |  0 |  68130 | 30373 |  331315 | 1558 |  2051441 | Allier                  | Allier                  | 1.30 | 19.90 | 10.60 |\n",
       "| 4 | 04 | 2020-03-18 |  3 |  1 | NA | NA | NA |  2 |  0 |  31674 | 11783 |  165197 | 1234 |  1667479 | Alpes-de-Haute-Provence | Alpes-de-Haute-Provence | 1.70 | 19.80 | 10.75 |\n",
       "| 5 | 05 | 2020-03-18 |  8 |  1 | NA | NA | NA |  9 |  0 |  28179 |  8853 |  141756 | 1564 |  2164480 | Hautes-Alpes            | Hautes-Alpes            | 2.40 | 20.20 | 11.30 |\n",
       "| 6 | 06 | 2020-03-18 | 25 |  1 | NA | NA | NA | 47 |  2 | 241860 | 88418 | 1079396 | 9967 | 13158114 | Alpes-Maritimes         | Alpes-Maritimes         | 8.57 | 16.41 | 12.49 |\n",
       "\n"
      ],
      "text/plain": [
       "  dep jour       hosp rea HospConv SSR_USLD autres rad dc n_tot_dose1\n",
       "1 01  2020-03-18  2    0  NA       NA       NA      1   0  85073     \n",
       "2 02  2020-03-18 41   10  NA       NA       NA     18  11  79669     \n",
       "3 03  2020-03-18  4    0  NA       NA       NA      1   0  68130     \n",
       "4 04  2020-03-18  3    1  NA       NA       NA      2   0  31674     \n",
       "5 05  2020-03-18  8    1  NA       NA       NA      9   0  28179     \n",
       "6 06  2020-03-18 25    1  NA       NA       NA     47   2 241860     \n",
       "  n_tot_dose2 pop     nombre_aides montant_total libelle_departement    \n",
       "1 26377        656955 3144          4069561      Ain                    \n",
       "2 30389        526050 1286          1866145      Aisne                  \n",
       "3 30373        331315 1558          2051441      Allier                 \n",
       "4 11783        165197 1234          1667479      Alpes-de-Haute-Provence\n",
       "5  8853        141756 1564          2164480      Hautes-Alpes           \n",
       "6 88418       1079396 9967         13158114      Alpes-Maritimes        \n",
       "  nom_dep                 tmin tmax  tmoy \n",
       "1 Ain                     3.40 19.30 11.35\n",
       "2 Aisne                   4.40 17.00 10.70\n",
       "3 Allier                  1.30 19.90 10.60\n",
       "4 Alpes-de-Haute-Provence 1.70 19.80 10.75\n",
       "5 Hautes-Alpes            2.40 20.20 11.30\n",
       "6 Alpes-Maritimes         8.57 16.41 12.49"
      ]
     },
     "metadata": {
      "tags": []
     },
     "output_type": "display_data"
    }
   ],
   "source": [
    "head(dataf)"
   ]
  },
  {
   "cell_type": "markdown",
   "metadata": {
    "id": "7hy9vO-zjWRy"
   },
   "source": [
    "Le modèle Splinetree ne peut lire que des données numériques, cette exigence est lié à la forme de la varible qui représente la dimension de date. Les fonctions - la variable quantitative par date - doivent être successive. Pour cela on va encoder la varibale date en numérique."
   ]
  },
  {
   "cell_type": "code",
   "execution_count": null,
   "metadata": {
    "id": "t-SYhALopWkO"
   },
   "outputs": [],
   "source": [
    "#sorting des dep\n",
    "dataf=dataf[order(dataf$dep),]\n",
    "#Encoding de la variable date en numéric\n",
    "nbDate=nlevels(as.factor(dataf$jour))\n",
    "dataf$num.date = as.integer(rep(c(1:nbDate),101))"
   ]
  },
  {
   "cell_type": "markdown",
   "metadata": {
    "id": "dyQT9bPVkO6F"
   },
   "source": [
    "Après on ajoute les mesures suivantes pour avoir des variables indépendate de la date, chaque variables est pour chaque 100 000 habitant de la population. Pour calculer ces variables, on a utilisé la colonne Pop importé de la table des vaccinations."
   ]
  },
  {
   "cell_type": "code",
   "execution_count": null,
   "metadata": {
    "id": "Ct0TGoQBKFV4"
   },
   "outputs": [],
   "source": [
    "# % measure pour 100000hab\n",
    "dataf$per.hosp = (dataf$hosp / dataf$pop) * 100000\n",
    "dataf$per.rea = (dataf$rea / dataf$pop) * 100000\n",
    "dataf$per.rad = (dataf$rad / dataf$pop) * 100000\n",
    "dataf$per.dc = (dataf$dc / dataf$pop) * 100000"
   ]
  },
  {
   "cell_type": "code",
   "execution_count": null,
   "metadata": {
    "colab": {
     "base_uri": "https://localhost:8080/",
     "height": 823
    },
    "id": "v6pzwXQgwBpX",
    "outputId": "4052ee47-8275-48d5-8b7c-d7031aff46b9"
   },
   "outputs": [
    {
     "data": {
      "text/plain": [
       "     dep                jour                hosp             rea       \n",
       " Length:39390       Length:39390       Min.   :   0.0   Min.   :  0.0  \n",
       " Class :character   Class :character   1st Qu.:  23.0   1st Qu.:  2.0  \n",
       " Mode  :character   Mode  :character   Median :  81.0   Median :  9.0  \n",
       "                                       Mean   : 183.7   Mean   : 25.8  \n",
       "                                       3rd Qu.: 221.0   3rd Qu.: 27.0  \n",
       "                                       Max.   :3281.0   Max.   :855.0  \n",
       "                                                                       \n",
       "    HospConv        SSR_USLD          autres           rad       \n",
       " Min.   :  5     Min.   :  0.00   Min.   : 0.00   Min.   :    0  \n",
       " 1st Qu.: 43     1st Qu.: 19.00   1st Qu.: 0.00   1st Qu.:  196  \n",
       " Median : 88     Median : 47.00   Median : 1.00   Median :  571  \n",
       " Mean   :151     Mean   : 72.37   Mean   : 3.28   Mean   : 1296  \n",
       " 3rd Qu.:177     3rd Qu.: 87.00   3rd Qu.: 4.00   3rd Qu.: 1438  \n",
       " Max.   :961     Max.   :524.00   Max.   :36.00   Max.   :17619  \n",
       " NA's   :36461   NA's   :36461    NA's   :36461                  \n",
       "       dc          n_tot_dose1      n_tot_dose2          pop         \n",
       " Min.   :   0.0   Min.   : 11005   Min.   :  4583   Min.   :  76286  \n",
       " 1st Qu.:  43.0   1st Qu.: 48870   1st Qu.: 18114   1st Qu.: 290691  \n",
       " Median : 128.0   Median : 82005   Median : 29850   Median : 526050  \n",
       " Mean   : 308.1   Mean   :106485   Mean   : 36499   Mean   : 663997  \n",
       " 3rd Qu.: 361.8   3rd Qu.:135122   3rd Qu.: 48641   3rd Qu.: 828405  \n",
       " Max.   :3805.0   Max.   :428467   Max.   :137565   Max.   :2588988  \n",
       "                                                                     \n",
       "  nombre_aides   montant_total      libelle_departement   nom_dep         \n",
       " Min.   :  337   Min.   :  458850   Length:39390        Length:39390      \n",
       " 1st Qu.: 1265   1st Qu.: 1687334   Class :character    Class :character  \n",
       " Median : 2523   Median : 3551937   Mode  :character    Mode  :character  \n",
       " Mean   : 3923   Mean   : 5267022                                         \n",
       " 3rd Qu.: 4850   3rd Qu.: 6573426                                         \n",
       " Max.   :23565   Max.   :32421693                                         \n",
       "                                                                          \n",
       "      tmin              tmax           tmoy          num.date    \n",
       " Min.   :-14.700   Min.   :-5.0   Min.   :-8.12   Min.   :  1.0  \n",
       " 1st Qu.:  3.800   1st Qu.:12.1   1st Qu.: 8.30   1st Qu.: 98.0  \n",
       " Median :  8.550   Median :17.5   Median :13.00   Median :195.5  \n",
       " Mean   :  8.269   Mean   :17.8   Mean   :13.03   Mean   :195.5  \n",
       " 3rd Qu.: 12.650   3rd Qu.:23.6   3rd Qu.:17.80   3rd Qu.:293.0  \n",
       " Max.   : 24.700   Max.   :40.9   Max.   :31.70   Max.   :390.0  \n",
       " NA's   :3006      NA's   :3006   NA's   :3006                   \n",
       "    per.hosp          per.rea           per.rad           per.dc      \n",
       " Min.   :  0.000   Min.   : 0.0000   Min.   :   0.0   Min.   :  0.00  \n",
       " 1st Qu.:  5.709   1st Qu.: 0.5775   1st Qu.:  51.2   1st Qu.: 10.98  \n",
       " Median : 18.206   Median : 2.1420   Median : 120.3   Median : 28.33  \n",
       " Mean   : 24.899   Mean   : 3.1345   Mean   : 173.5   Mean   : 42.32  \n",
       " 3rd Qu.: 38.142   3rd Qu.: 4.6198   3rd Qu.: 245.0   3rd Qu.: 60.38  \n",
       " Max.   :163.402   Max.   :39.7995   Max.   :1274.4   Max.   :381.75  \n",
       "                                                                      "
      ]
     },
     "metadata": {
      "tags": []
     },
     "output_type": "display_data"
    }
   ],
   "source": [
    "summary(dataf)"
   ]
  },
  {
   "cell_type": "markdown",
   "metadata": {
    "id": "L_Fd3m7GgJ-l"
   },
   "source": [
    "Le fonction spline Tree n'accepte pas que les variables explicatives suivent une variable de date. Alors pour cela on va créer pour chaque variable, deux autres, une mediane et une moyenne.\n",
    "Ces derniers, on va les utiliser dans le modèle Splinetree."
   ]
  },
  {
   "cell_type": "code",
   "execution_count": null,
   "metadata": {
    "colab": {
     "base_uri": "https://localhost:8080/"
    },
    "id": "GH5Oz9zPFhTs",
    "outputId": "90f22b53-5e48-483b-c3d5-3454d32aa240"
   },
   "outputs": [
    {
     "name": "stderr",
     "output_type": "stream",
     "text": [
      "Warning message:\n",
      "“`summarise_each_()` was deprecated in dplyr 0.7.0.\n",
      "Please use `across()` instead.\n",
      "\u001b[90mThis warning is displayed once every 8 hours.\u001b[39m\n",
      "\u001b[90mCall `lifecycle::last_warnings()` to see where this warning was generated.\u001b[39m”\n",
      "Warning message:\n",
      "“`funs()` was deprecated in dplyr 0.8.0.\n",
      "Please use a list of either functions or lambdas: \n",
      "\n",
      "  # Simple named list: \n",
      "  list(mean = mean, median = median)\n",
      "\n",
      "  # Auto named with `tibble::lst()`: \n",
      "  tibble::lst(mean, median)\n",
      "\n",
      "  # Using lambdas\n",
      "  list(~ mean(., trim = .2), ~ median(., na.rm = TRUE))\n",
      "\u001b[90mThis warning is displayed once every 8 hours.\u001b[39m\n",
      "\u001b[90mCall `lifecycle::last_warnings()` to see where this warning was generated.\u001b[39m”\n"
     ]
    }
   ],
   "source": [
    "m.rad=dataf %>%\n",
    "     group_by(dep) %>%\n",
    "     summarise_each(funs(mean, median), rad)\n",
    "colnames(m.rad)=c(\"dep\",\"rad.mean\", \"rad.median\")\n",
    "\n",
    "m.dc=dataf %>%\n",
    "  group_by(dep) %>%\n",
    "  summarise_each(funs(mean, median), dc)\n",
    "colnames(m.dc)=c(\"dep\",\"dc.mean\", \"dc.median\")\n",
    "\n",
    "m.hosp=dataf %>%\n",
    "  group_by(dep) %>%\n",
    "  summarise_each(funs(mean, median), hosp)\n",
    "colnames(m.hosp)=c(\"dep\",\"hosp.mean\", \"hosp.median\")\n",
    "\n",
    "m.pop=dataf %>%\n",
    "  group_by(dep) %>%\n",
    "  summarise_each(funs(mean, median), pop)\n",
    "colnames(m.pop)=c(\"dep\",\"pop.mean\", \"pop.median\")\n",
    "\n",
    "m.HospConv=dataf %>%\n",
    "  group_by(dep) %>%\n",
    "  summarise_each(funs(mean, median), HospConv)\n",
    "colnames(m.HospConv)=c(\"dep\",\"HospConv.mean\", \"HospConv.median\")\n",
    "\n",
    "m.nombre_aides=dataf %>%\n",
    "  group_by(dep) %>%\n",
    "  summarise_each(funs(mean, median), nombre_aides)\n",
    "colnames(m.nombre_aides)=c(\"dep\",\"nombre_aides.mean\", \"nombre_aides.median\")\n",
    "\n",
    "m.montant_total=dataf %>%\n",
    "  group_by(dep) %>%\n",
    "  summarise_each(funs(mean, median), montant_total)\n",
    "colnames(m.montant_total)=c(\"dep\",\"montant_total.mean\", \"montant_total.median\")\n",
    "\n",
    "m.n_tot_dose1=dataf %>%\n",
    "  group_by(dep) %>%\n",
    "  summarise_each(funs(mean, median), n_tot_dose1)\n",
    "colnames(m.n_tot_dose1)=c(\"dep\",\"n_tot_dose1.mean\", \"n_tot_dose1.median\")\n",
    "\n",
    "m.n_tot_dose2=dataf %>%\n",
    "  group_by(dep) %>%\n",
    "  summarise_each(funs(mean, median), n_tot_dose2)\n",
    "colnames(m.n_tot_dose2)=c(\"dep\",\"n_tot_dose2.mean\", \"n_tot_dose2.median\")\n",
    "\n",
    "m.SSR_USLD=dataf %>%\n",
    "  group_by(dep) %>%\n",
    "  summarise_each(funs(mean, median), SSR_USLD)\n",
    "colnames(m.SSR_USLD)=c(\"dep\",\"SSR_USLD.mean\", \"SSR_USLD.median\")"
   ]
  },
  {
   "cell_type": "markdown",
   "metadata": {
    "id": "2SV_MybykqOi"
   },
   "source": [
    "Maintenant on fusionne toutes les tables de moyenne et mediane à la table de fait principale."
   ]
  },
  {
   "cell_type": "code",
   "execution_count": null,
   "metadata": {
    "id": "1yyzDmAwkq2P"
   },
   "outputs": [],
   "source": [
    "\n",
    "dataf= dataf %>% left_join(m.rad, by=\"dep\")\n",
    "dataf= dataf %>% left_join(m.dc, by=\"dep\")\n",
    "dataf= dataf %>% left_join(m.hosp, by=\"dep\")\n",
    "dataf= dataf %>% left_join(m.pop, by=\"dep\")\n",
    "dataf= dataf %>% left_join(m.HospConv, by=\"dep\")\n",
    "dataf= dataf %>% left_join(m.nombre_aides, by=\"dep\")\n",
    "dataf= dataf %>% left_join(m.montant_total, by=\"dep\")\n",
    "dataf= dataf %>% left_join(m.n_tot_dose1, by=\"dep\")\n",
    "dataf= dataf %>% left_join(m.n_tot_dose2, by=\"dep\")\n",
    "dataf= dataf %>% left_join(m.SSR_USLD, by=\"dep\")"
   ]
  },
  {
   "cell_type": "markdown",
   "metadata": {
    "id": "4SPTtslhosVx"
   },
   "source": [
    "Voici le résultat de notre table de fait."
   ]
  },
  {
   "cell_type": "code",
   "execution_count": null,
   "metadata": {
    "colab": {
     "base_uri": "https://localhost:8080/"
    },
    "id": "9mnTMKJog6yg",
    "outputId": "87968b01-feda-4f73-b0d5-94201a889c40"
   },
   "outputs": [
    {
     "name": "stdout",
     "output_type": "stream",
     "text": [
      "'data.frame':\t39390 obs. of  44 variables:\n",
      " $ dep                 : chr  \"01\" \"01\" \"01\" \"01\" ...\n",
      " $ jour                : chr  \"2020-03-18\" \"2020-03-19\" \"2020-03-20\" \"2020-03-21\" ...\n",
      " $ hosp                : int  2 2 2 4 8 17 22 29 33 49 ...\n",
      " $ rea                 : int  0 0 0 0 1 3 3 6 6 9 ...\n",
      " $ HospConv            : int  NA NA NA NA NA NA NA NA NA NA ...\n",
      " $ SSR_USLD            : int  NA NA NA NA NA NA NA NA NA NA ...\n",
      " $ autres              : int  NA NA NA NA NA NA NA NA NA NA ...\n",
      " $ rad                 : int  1 1 1 1 2 7 11 15 17 17 ...\n",
      " $ dc                  : int  0 0 0 0 0 0 0 0 2 2 ...\n",
      " $ n_tot_dose1         : int  85073 85073 85073 85073 85073 85073 85073 85073 85073 85073 ...\n",
      " $ n_tot_dose2         : int  26377 26377 26377 26377 26377 26377 26377 26377 26377 26377 ...\n",
      " $ pop                 : num  656955 656955 656955 656955 656955 ...\n",
      " $ nombre_aides        : int  3144 3144 3144 3144 3144 3144 3144 3144 3144 3144 ...\n",
      " $ montant_total       : num  4069561 4069561 4069561 4069561 4069561 ...\n",
      " $ libelle_departement : chr  \"Ain\" \"Ain\" \"Ain\" \"Ain\" ...\n",
      " $ nom_dep             : chr  \"Ain\" \"Ain\" \"Ain\" \"Ain\" ...\n",
      " $ tmin                : num  3.4 4.3 3.7 3.4 4 5.7 -2 -2.5 -0.7 -1.6 ...\n",
      " $ tmax                : num  19.3 21.7 20.5 18.7 13.2 13.2 11.9 11.1 11.8 13.2 ...\n",
      " $ tmoy                : num  11.3 13 12.1 11.1 8.6 ...\n",
      " $ num.date            : int  1 2 3 4 5 6 7 8 9 10 ...\n",
      " $ per.hosp            : num  0.304 0.304 0.304 0.609 1.218 ...\n",
      " $ per.rea             : num  0 0 0 0 0.152 ...\n",
      " $ per.rad             : num  0.152 0.152 0.152 0.152 0.304 ...\n",
      " $ per.dc              : num  0 0 0 0 0 ...\n",
      " $ rad.mean            : num  927 927 927 927 927 ...\n",
      " $ rad.median          : num  492 492 492 492 492 ...\n",
      " $ dc.mean             : num  224 224 224 224 224 ...\n",
      " $ dc.median           : num  110 110 110 110 110 110 110 110 110 110 ...\n",
      " $ hosp.mean           : num  154 154 154 154 154 ...\n",
      " $ hosp.median         : num  137 137 137 137 137 137 137 137 137 137 ...\n",
      " $ pop.mean            : num  656955 656955 656955 656955 656955 ...\n",
      " $ pop.median          : num  656955 656955 656955 656955 656955 ...\n",
      " $ HospConv.mean       : num  NA NA NA NA NA NA NA NA NA NA ...\n",
      " $ HospConv.median     : int  NA NA NA NA NA NA NA NA NA NA ...\n",
      " $ nombre_aides.mean   : num  3144 3144 3144 3144 3144 ...\n",
      " $ nombre_aides.median : num  3144 3144 3144 3144 3144 ...\n",
      " $ montant_total.mean  : num  4069561 4069561 4069561 4069561 4069561 ...\n",
      " $ montant_total.median: num  4069561 4069561 4069561 4069561 4069561 ...\n",
      " $ n_tot_dose1.mean    : num  85073 85073 85073 85073 85073 ...\n",
      " $ n_tot_dose1.median  : num  85073 85073 85073 85073 85073 ...\n",
      " $ n_tot_dose2.mean    : num  26377 26377 26377 26377 26377 ...\n",
      " $ n_tot_dose2.median  : num  26377 26377 26377 26377 26377 ...\n",
      " $ SSR_USLD.mean       : num  NA NA NA NA NA NA NA NA NA NA ...\n",
      " $ SSR_USLD.median     : int  NA NA NA NA NA NA NA NA NA NA ...\n"
     ]
    }
   ],
   "source": [
    "str(dataf)"
   ]
  },
  {
   "cell_type": "markdown",
   "metadata": {
    "id": "wlIR1lfTHa1y"
   },
   "source": [
    "# Analyse et visualisation des données"
   ]
  },
  {
   "cell_type": "markdown",
   "metadata": {
    "id": "G7SOHpYDHgnK"
   },
   "source": [
    "## Dashboarding and reporting"
   ]
  },
  {
   "cell_type": "markdown",
   "metadata": {
    "id": "qU2pQebTovjl"
   },
   "source": [
    "Dans cette partie on s'interesse à visualiser nos variables dans le but d'avoir une idée sur les tendance, saisonalité des séries chronologique.\n",
    "On va utiliser le package ggplot avec Plotly qui donne plus de flexibilité à l'utilisateur de manipuler les graphes."
   ]
  },
  {
   "cell_type": "code",
   "execution_count": null,
   "metadata": {
    "id": "OuMHu54OHyh_"
   },
   "outputs": [],
   "source": [
    "## Création des graphes par département et date\n",
    "### % hosp\n",
    "g.per.host <- ggplot(dataf, aes(x=jour, y=per.hosp)) +\n",
    "  geom_line(aes(color=dep)) + \n",
    "  xlab(\"jour\") + ylab(\"percentage d'hopitalisation pour chaque 100.000 Hab\")\n",
    "\n",
    "## % dc\n",
    "g.per.dc <- ggplot(dataf, aes(x=jour, y=per.dc)) +\n",
    "  geom_line(aes(color=dep)) + \n",
    "  xlab(\"jour\") + ylab(\"percentage de décès pour chaque 100.000 Hab\")\n",
    "\n",
    "## % rea\n",
    "g.per.rea <- ggplot(dataf, aes(x=jour, y=per.rea)) +\n",
    "  geom_line(aes(color=dep)) + \n",
    "  xlab(\"jour\") + ylab(\"percentage de reanimation pour chaque 100.000 Hab\")\n",
    "\n",
    "## % rad\n",
    "g.per.rad <- ggplot(dataf, aes(x=jour, y=per.rad)) +\n",
    "  geom_line(aes(color=dep)) + \n",
    "  xlab(\"jour\") + ylab(\"percentage de personne rendus à domicile pour chaque 100.000 Hab\")\n",
    "\n",
    "## pop\n",
    "g.pop <- ggplot(dataf, aes(x=jour, y=pop)) +\n",
    "  geom_line(aes(color=dep)) + \n",
    "  xlab(\"jour\") + ylab(\"Population par département\")\n",
    "\n",
    "## nombre de vaccination (1 dose)\n",
    "g.n_tot_dose1 <- ggplot(dataf, aes(x=jour, y=n_tot_dose1)) +\n",
    "  geom_line(aes(color=dep)) + \n",
    "  xlab(\"jour\") + ylab(\"Nombre de personne vaccinée (première dose)\")\n",
    "  \n",
    "## nombre de vaccination (2 doses)\n",
    "g.n_tot_dose2 <- ggplot(dataf, aes(x=jour, y=n_tot_dose2)) +\n",
    "  geom_line(aes(color=dep)) + \n",
    "  xlab(\"jour\") + ylab(\"Nombre de personne vaccinée (deux dose)\")\n",
    "\n",
    "options( \"scipen\"=100) \n",
    "#### Montant des aides\n",
    "g.montant_total = ggplot(dataf, aes(x = reorder(dep, -montant_total), y = montant_total)) +\n",
    "  geom_bar(stat='identity') + theme_minimal() + \n",
    "  xlab(\"Département\") + ylab(\"Montant des aides\")\n",
    "g.montant_total\n",
    "\n",
    "## Nombre d'aides\n",
    "g.nombre_aides <- ggplot(dataf, aes(x = reorder(dep, -nombre_aides), y = nombre_aides)) +\n",
    "  geom_bar(stat='identity') + theme_minimal() + \n",
    "  xlab(\"Département\") + ylab(\"Nombre aides\")\n",
    "g.nombre_aides\n",
    "\n",
    "\n",
    "### Allocation des graphes\n",
    "a=ggplotly(g.per.host)\n",
    "b=ggplotly(g.per.dc)\n",
    "c=ggplotly(g.per.rea)\n",
    "d=ggplotly(g.per.rad)\n",
    "e=ggplotly(g.pop)\n",
    "f=ggplotly(g.n_tot_dose1)\n",
    "j=ggplotly(g.n_tot_dose2)\n",
    "h=ggplotly(g.montant_total)\n",
    "g=ggplotly(g.nombre_aides)\n"
   ]
  },
  {
   "cell_type": "markdown",
   "metadata": {
    "id": "2Cdxpze6VnZJ"
   },
   "source": [
    "Montant des aides:\n",
    "\n",
    "Ce graphique nous montre que le département ayant le montant le plus fort au niveau des aides est le 75 Paris, suivi du 13 Bouches-du-Rhone et du 69 Rhone.\n",
    "\n",
    "Nombre d'aides:\n",
    "\n",
    "Ce graphique nous montre que le département favorisé en terme d'aides est le 75 Paris, suivi du 13 Bouches-du-Rhone et du 69 Rhone.\n",
    "\n"
   ]
  },
  {
   "cell_type": "code",
   "execution_count": null,
   "metadata": {
    "colab": {
     "base_uri": "https://localhost:8080/",
     "height": 132
    },
    "id": "OmMCeB-y8mcU",
    "outputId": "410b8d61-33e1-47a9-f6d0-f987861d0c70"
   },
   "outputs": [
    {
     "ename": "ERROR",
     "evalue": "ignored",
     "output_type": "error",
     "traceback": [
      "Error in str(dataf): object 'dataf' not found\nTraceback:\n",
      "1. str(dataf)"
     ]
    }
   ],
   "source": [
    "str(dataf)"
   ]
  },
  {
   "cell_type": "markdown",
   "metadata": {
    "id": "MEkXYYMmIaJM"
   },
   "source": [
    "## ACP"
   ]
  },
  {
   "cell_type": "code",
   "execution_count": null,
   "metadata": {
    "id": "nsr_Fn4RIilA"
   },
   "outputs": [],
   "source": [
    "\n",
    "## ACP\n",
    "active.dataf=dataf[,c(1,3:11,14:25)]\n",
    "active.dataf$dep=as.factor(active.dataf$dep)\n",
    "res.pca=PCA(active.dataf, quali.sup = 1, graph = FALSE)\n",
    "\n",
    "fviz_pca_biplot(res.pca) #Biplot\n",
    "fviz_pca_var(res.pca) #plot des var\n",
    "## Afficher le % de contribution des variables\n",
    "fviz_pca_var(res.pca,\n",
    "             col.var = \"contrib\", # Color by contributions to the PC\n",
    "             gradient.cols = c(\"#00AFBB\", \"#E7B800\", \"#FC4E07\"),\n",
    "             repel = TRUE     # Avoid text overlapping\n",
    ")\n",
    "\n",
    "fviz_pca_ind(res.pca)\n",
    "\n",
    "fviz_pca(res.pca)\n",
    "\n",
    "###On peut comprendre qu'il a une forte corrélation entre les variables en percentage et les\n",
    "### variable brut (nombre)\n",
    "### Alors on va utiliser que les données brut"
   ]
  },
  {
   "cell_type": "markdown",
   "metadata": {
    "id": "iJWO_kiEKb6D"
   },
   "source": [
    "# Modèle splinetree"
   ]
  },
  {
   "cell_type": "markdown",
   "metadata": {
    "id": "i9KtWewTKj5l"
   },
   "source": [
    "## Présentation du splinetree"
   ]
  },
  {
   "cell_type": "markdown",
   "metadata": {
    "id": "YOVYRyTjmWl0"
   },
   "source": [
    "Les études longitudinales, où un résultat d'intérêt est mesuré à plusieurs reprises dans les mêmes sujets au fil du temps, jouent un rôle clé dans la recherche dans une variété de disciplines, y compris la médecine, l'épidémiologie et les sciences sociales. \n",
    "\n",
    "Dans ces études, la trajectoire d'un résultat longitudinal au fil du temps peut être très différente selon les membres de la population.\n",
    "\n",
    "Il est souvent utile de trouver des facteurs qui aident à expliquer cette variation des modèles de croissance. \n",
    "Nous proposons d'utiliser des arbres de régression longitudinale, en particulier un arbre splinéaire, pour trouver des sous-groupes de population où les membres du groupe suivent des modèles de trajectoire longitudinale similaires et partagent des valeurs de covariables de base communes. \n",
    "\n",
    "Nous proposons également d'utiliser des forêts de splines pour comprendre quelles covariables de base peuvent expliquer la plus grande variation des trajectoires.\n",
    "\n",
    "Spline Tree représente chaque vecteur de réponse comme une combinaison linéaire de fonctions de base de spline, puis ajuste un arbre multivarié aux vecteurs de coefficients estimés.\n",
    "Pour construire un arbre, nous utilisons la fonction splineTree (). Il y a quatre paramètres dans splineTree qui n'ont pas de valeurs par défaut, et donc pour commencer, nous avons besoin (au minimum):\n",
    "\n",
    "Un ensemble de données longitudinales, à fournir via le paramètre data. L'ensemble de données doit être au format long, ce qui signifie qu'une ligne de données correspond à un sujet à un moment donné (contrairement au format large, où une ligne de données correspond à un sujet et différentes colonnes représentent des réponses à différents moments) . Pour notre premier ensemble de données, les données de base qu'on a nommé DataF, est au format long.\n",
    "\n",
    "Une trajectoire longitudinale ou une courbe fonctionnelle d'intérêt, à fournir via le paramètre tformula. Dans notre exemple, nous nous intéressons à la variable de réponse, Rea, en fonction de la variable de temps, Num.date. La trajectoire est donc définie par la formule Rea ~ Num.Date.\n",
    "\n",
    "Le nom d'une variable d'identificateur, qui étiquette les observations individuelles appartenant à la même trajectoire, est fourni sous forme de chaîne via le paramètre idvar. Dans notre exemple de données, le nom de la variable identifiant est «departements».\n",
    "\n",
    "Une formule de fractionnement unilatérale spécifiant les variables de fractionnement, à fournir via le paramètre splitformula. Toutes les variables fractionnées doivent être constantes de temps, ce qui signifie que pour une valeur donnée de la variable ID, chaque variable fractionnée ne prend qu'une seule valeur. Ce sont des variables dont nous soupçonnons qu'elles pourraient être liées à l'hétérogénéité des trajectoires de la population. Dans notre exemple, ce sont les variables covid de données de base sélectionnées comme rad.médian, pop.médian, dc.médian et hosp.médian.\n"
   ]
  },
  {
   "cell_type": "markdown",
   "metadata": {
    "id": "_s8Pht83KpKd"
   },
   "source": [
    "## Création du modèle Splinetree"
   ]
  },
  {
   "cell_type": "code",
   "execution_count": null,
   "metadata": {
    "id": "7X5FPOW5LAaR"
   },
   "outputs": [],
   "source": [
    "splitForm = ~ rad.median + pop.median + dc.median + hosp.median\n",
    "tformula = rea ~ num.date\n",
    "idvar= 'dep'\n",
    "data = act.dataf\n",
    "\n",
    "tree1 <- splineTree(splitForm, tformula, idvar, \n",
    "                    data, degree=3,\n",
    "                    intercept=TRUE, cp=0.005)"
   ]
  },
  {
   "cell_type": "markdown",
   "metadata": {
    "id": "TwY16LqFKtdS"
   },
   "source": [
    "## Interprétation des résultats"
   ]
  },
  {
   "cell_type": "code",
   "execution_count": null,
   "metadata": {
    "colab": {
     "base_uri": "https://localhost:8080/",
     "height": 97
    },
    "id": "1t55Z0IvLU5p",
    "outputId": "56e85164-0afa-4f35-a089-671767f67942"
   },
   "outputs": [
    {
     "ename": "ERROR",
     "evalue": "ignored",
     "output_type": "error",
     "traceback": [
      "Error in stPrint(tree1): could not find function \"stPrint\"\nTraceback:\n"
     ]
    }
   ],
   "source": [
    "stPrint(tree1)"
   ]
  },
  {
   "cell_type": "markdown",
   "metadata": {
    "id": "m7Pkgb9BLYt1"
   },
   "source": [
    "\n",
    "Nous notons que la taille de l'échantillon est n = 101 et le reste du résumé montre comment les données sont réparties.\n",
    "\n",
    "Premièrement, nous avons les 101 départements dans le nœud racine. Les quatre nombres suivants correspondent aux coefficients de spline moyens pour tous les départements (59.82808, -112.65180,-4.219700, -21.409420)\n",
    "\n",
    "Cet arbre utilise une base de spline cubique sans nœuds internes et sans interception. Cela donne à l'arbre 4 degrés de liberté (df = degré de polynôme + nombre de nœuds internes + intersection), et ainsi chaque nœud est décrit par quatre coefficients. Ces quatre coefficients, ainsi que des informations sur la base de spline utilisée, décrivent la trajectoire prédite pour chaque nœud.\n",
    "\n",
    "Ensuite, le nœud racine a été divisé par le nombre médian d’hospitalisation (87 départements avec < 372 et 14 départements avec ≥ 372). \n",
    "\n",
    "Ensuite, le groupe de 65 départements a été divisé en deux en fonction de la population (44 départements avec une population moins de 425781 et 21 départements avec plus de 425781). \n"
   ]
  },
  {
   "cell_type": "code",
   "execution_count": null,
   "metadata": {
    "id": "ZQkTiXCmLf2T"
   },
   "outputs": [],
   "source": [
    "stPlot(tree1)"
   ]
  },
  {
   "cell_type": "markdown",
   "metadata": {
    "id": "j5N6MKcmLjc4"
   },
   "source": [
    "Les nœuds terminaux (les feuilles de l'arbre) sont indiqués par un astérisque. Donc, ici, \n",
    "les nœuds 8, 9, 5 et 3 sont tous des nœuds terminaux qui n'ont pas été séparés en deux.\n",
    "Ce sont les groupes qui devraient avoir à la fois des schémas de trajectoires homogènes ainsi \n",
    "que des valeurs de covariables similaires qui se trouvent dans l'arbre (nombre d’hospitalisation et population)\n",
    "Ces nœuds terminaux et la trajectoire moyenne sont visualisés dans un graphique donné par la stPlot()fonction. L'arbre est visualisé à gauche et les trajectoires moyennes sont superposées à droite.\n"
   ]
  },
  {
   "cell_type": "code",
   "execution_count": null,
   "metadata": {
    "id": "b8PISME5LmFe"
   },
   "outputs": [],
   "source": [
    "treeSummary(tree1)"
   ]
  },
  {
   "cell_type": "markdown",
   "metadata": {
    "id": "j-5V3JsyLt_N"
   },
   "source": [
    "Si nous nous intéressons particulièrement au nœud étiqueté nœud 3 par exemple, nous pouvons visualiser ses coefficients individuellement.\n",
    "\n"
   ]
  },
  {
   "cell_type": "markdown",
   "metadata": {
    "id": "qgTUe-W3Lw1-"
   },
   "source": [
    "Les coefficients décrivant directement chaque nœud :\n",
    "\n",
    "---\n",
    "\n",
    "\n"
   ]
  },
  {
   "cell_type": "code",
   "execution_count": null,
   "metadata": {
    "id": "gbtzYvAdLzUV"
   },
   "outputs": [],
   "source": [
    "treeSummary(tree1)[\"3\",]$coeffs"
   ]
  },
  {
   "cell_type": "markdown",
   "metadata": {
    "id": "W7JOFPmaMAf8"
   },
   "source": [
    "On peut également visualiser un résumé du nœud 3, y compris le chemin vers ce nœud et les coefficients."
   ]
  },
  {
   "cell_type": "code",
   "execution_count": null,
   "metadata": {
    "id": "OkRFQsuHMCSr"
   },
   "outputs": [],
   "source": [
    "terminalNodeSummary(tree1, 3)"
   ]
  },
  {
   "cell_type": "markdown",
   "metadata": {
    "id": "BavxMQYooyri"
   },
   "source": [
    "Nous savons maintenant quel sous-ensemble de données appartient au nœud 3 et nous avons quatre coefficients qui décrivent une trajectoire prédite pour ces individus. Il serait plus utile de voir un visuel de la trajectoire moyenne pour ce nœud."
   ]
  },
  {
   "cell_type": "code",
   "execution_count": null,
   "metadata": {
    "id": "DJT2KfGjqd3j"
   },
   "outputs": [],
   "source": [
    "plotNode(tree1, node = 3, includeData = FALSE, estimateIntercept = FALSE)"
   ]
  },
  {
   "cell_type": "markdown",
   "metadata": {
    "id": "Tg5w4LxrsMQu"
   },
   "source": [
    "##Prédiction et évaluation"
   ]
  },
  {
   "cell_type": "markdown",
   "metadata": {
    "id": "r5pH0NkaskRj"
   },
   "source": [
    "Maintenant que nous avons construit l'arbre, on peut se demander dans quelle mesure l'arbre explique la variation des trajectoires longitudinales. Pour cela, nous avons besoin de mesures de la performance des arbres. Une façon de définir les performances consiste à se concentrer sur les résidus ou les erreurs de prédiction. Cela ne peut être fait qu'avec un arbre avec une interception incluse.\n",
    "\n",
    "Pour commencer, nous pouvons faire des prédictions à partir de notre arbre sur un ensemble d'entraînement et voir dans quelle mesure les valeurs de REA prédites correspondent aux valeurs de REA réelles.\n",
    "\n",
    "La predictY()fonction permet également l'option de prédictions sur un ensemble de test distinct, et ainsi nous pourrions également mesurer les performances hors échantillon."
   ]
  },
  {
   "cell_type": "code",
   "execution_count": null,
   "metadata": {
    "id": "kmH0yhg5sMhZ"
   },
   "outputs": [],
   "source": [
    "predictions <- predictY(tree1)\n",
    "cor(predictions, dataf$rea)"
   ]
  },
  {
   "cell_type": "code",
   "execution_count": null,
   "metadata": {
    "id": "cpgc6QTjtgDm"
   },
   "outputs": [],
   "source": [
    " plot(predictions, (predictions - dataf$rea), xlab = \"Predicted REA\", ylab = \"Residual\")"
   ]
  },
  {
   "cell_type": "markdown",
   "metadata": {
    "id": "pXOa5eSCul49"
   },
   "source": [
    "Nous avons beaucoup plus de résidus négatifs que de résidus positifs. Le REA maximal dans l'ensemble de données est de 855, mais le REA maximal prévu n'est que de 230.\n",
    "\n",
    "En tant que mesure de la performance de nos arbres, nous pouvons également calculer un R2R2 mesure du pourcentage total de variation de réponse expliquée par notre arbre."
   ]
  },
  {
   "cell_type": "code",
   "execution_count": null,
   "metadata": {
    "id": "txcQ_EhFvUMk"
   },
   "outputs": [],
   "source": [
    "yR2(tree1)"
   ]
  },
  {
   "cell_type": "markdown",
   "metadata": {
    "id": "tEdv_DvNiEnF"
   },
   "source": [
    "# Spline Forests"
   ]
  },
  {
   "cell_type": "markdown",
   "metadata": {
    "id": "Wddu1RmspiCb"
   },
   "source": [
    "## Introduction aux Spline Forests"
   ]
  },
  {
   "cell_type": "markdown",
   "metadata": {
    "id": "Ilu4zFDQgN0o"
   },
   "source": [
    "\n",
    "construire une forêt est simple. La majorité des paramètres nécessaires pour utiliser la fonction **splineForest ()** sont identiques à ceux utilisés dans la fonction **splineTree ()**. \n",
    "\n",
    "Le processus utilisé pour projeter les données longitudinales sur des trajectoires lissées puis effectuer des fractionnements est identique. Il n'y a que deux paramètres supplémentaires pour la fonction splineForest.\n",
    "Le paramètre nTree spécifie le nombre d'arbres dans la forêt. La valeur par défaut est 50. Les grandes forêts offrent une stabilité supplémentaire par rapport aux forêts plus petites, mais sur les grands ensembles de données, la création d'une grande forêt de splines peut prendre plusieurs minutes. \n",
    "\n",
    "Le paramètre prob spécifie la probabilité qu'une variable soit considérée comme une variable fractionnée à un nœud donné. Pour éviter une situation où aucune variable n'est prise en compte à un certain nœud, nous recommandons que ce prob soit relativement grand lorsque le nombre de variables fractionnées est petit.\n",
    "\n",
    "\n"
   ]
  },
  {
   "cell_type": "code",
   "execution_count": null,
   "metadata": {
    "id": "Xpfw1VLdgLi2"
   },
   "outputs": [],
   "source": [
    "forest <- splineForest(splitForm, tformula, idvar, \n",
    "                       data, degree=1, df=3,\n",
    "                       intercept=TRUE,ntree=50, prob=0.5, cp=0.005)\n",
    "\n",
    "mean_coeffs <- apply(forest$flat_data$Ydata, 2, mean)\n",
    "\n",
    "times <- sort(unique(forest$data[[forest$tvar]]))\n",
    "\n",
    "\n",
    "basisMatrix <- bs(times, degree=forest$degree, Boundary.knots = forest$boundaryKnots, \n",
    "                  knots = forest$innerKnots)\n",
    "if (forest$intercept) {\n",
    "  basisMatrix <- cbind(1, basisMatrix)\n",
    "}\n",
    "\n",
    "preds <- basisMatrix %*% mean_coeffs\n",
    "\n",
    "plot(times, preds, type='l', main=\"Reanimation Average Trajectory\")\n",
    "stPrint(forest$Trees[[20]])"
   ]
  },
  {
   "cell_type": "code",
   "execution_count": null,
   "metadata": {
    "id": "tzkVseg_gr3g"
   },
   "outputs": [],
   "source": [
    "freqs <- table(forest$splits)/sum(table(forest$splits))\n",
    "par(las = 2)\n",
    "barplot(freqs, cex.names = 0.5)"
   ]
  },
  {
   "cell_type": "markdown",
   "metadata": {
    "id": "ILOYgMjDhYOt"
   },
   "source": [
    "![Rplot.png](data:image/png;base64,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)"
   ]
  },
  {
   "cell_type": "markdown",
   "metadata": {
    "id": "QymfM_Q6h-H7"
   },
   "source": [
    "Il peut être utile de comparer la fréquence de sélection des différentes variables. Il est important de noter que ces fréquences ne doivent pas être utilisées comme une métrique d'importance variable. Le graphique à barres ci-dessous montre que  pop.median,n_tot_dose1,n_tot_dose2, dc.median et hosp.median sont les variables les plus fréquemment sélectionnées dans toute la forêt. \n",
    "\n",
    "Ces cinques variables sont les seules variables numériques de l'ensemble de données; les autres sont binaires, c'est-à-dire qu'elles ne peuvent jamais être utilisées consécutivement dans la même branche d'un arbre. \n",
    "\n",
    "Des mesures plus appropriées d'importance variable seront examinées ci-dessus.\n"
   ]
  },
  {
   "cell_type": "markdown",
   "metadata": {
    "id": "iTd3iv-22YFC"
   },
   "source": [
    "# Prédiction\n",
    "Lors de la prédiction des coefficients ou des réponses pour un point de données qui était dans l'ensemble d'apprentissage, nous avons la possibilité d'utiliser l'une des trois méthodes différentes, spécifiées par le paramètre «méthodes» dans predictYForestet predictCoeffsForest. Pour un point de données donné, nous pouvons soit faire la moyenne de sa prédiction sur tous les arbres de la forêt ( method = \"all\"), sur uniquement les arbres de la forêt pour lesquels ce point de données n'était pas dans le sous-échantillon aléatoire ( method=\"oob\"), soit sur uniquement les arbres de la forêt pour lesquels ce point de données était dans le sous-échantillon aléatoire ( method=\"itb\"). La oobméthode est préférée, car elle donne une impression de performances hors échantillon et évite de surappliquer les données d'apprentissage. Nous pouvons comparer les prédictions de réponse pour les méthodes arborescentes en fonction de leur degré de correspondance avec les réponses réelles. Comme prévu, leitb les prévisions correspondent beaucoup plus étroitement aux valeurs réelles.\n"
   ]
  },
  {
   "cell_type": "code",
   "execution_count": null,
   "metadata": {
    "id": "8V3WP6WY2FNU"
   },
   "outputs": [],
   "source": [
    "cor(dataf$rea, predictYForest(forest, method=\"oob\"))\n",
    "##[1] 0.7042923\n",
    "cor(dataf$rea, predictYForest(forest, method=\"all\"))\n",
    "##[1] 0.7510536\n",
    "cor(dataf$rea, predictYForest(forest, method=\"itb\"))\n",
    "##[1] 0.7673961\n",
    "#Evaluating a Forest\n",
    "yR2Forest(forest, method=\"oob\")\n",
    "## [1] 0.4879318\n",
    "yR2Forest(forest, method=\"all\")\n",
    "## [1] 0.5512813\n",
    "yR2Forest(forest, method=\"itb\")\n",
    "## [1]  0.5774052\n",
    "projectedR2Forest(forest, method=\"oob\", removeIntercept = FALSE)\n",
    "##           [,1]\n",
    "## [1,] 0.6414625\n",
    "projectedR2Forest(forest, method=\"all\", removeIntercept = FALSE)\n",
    "##           [,1]\n",
    "## [1,] 0.7367999\n",
    "projectedR2Forest(forest, method=\"itb\", removeIntercept = FALSE)\n",
    "##           [,1]\n",
    "## [1,]  0.7765417\n",
    "projectedR2Forest(forest, method=\"oob\", removeIntercept = TRUE)\n",
    "##            [,1]\n",
    "## [1,] 0.393377\n",
    "projectedR2Forest(forest, method=\"all\", removeIntercept = TRUE)\n",
    "##           [,1]\n",
    "## [1,] 0.4780249\n",
    "projectedR2Forest(forest, method=\"itb\", removeIntercept = TRUE)\n",
    "##            [,1]\n",
    "## [1,] 0.5152273"
   ]
  },
  {
   "cell_type": "markdown",
   "metadata": {
    "id": "-UNOHIms2eyJ"
   },
   "source": [
    "# Importances des variables"
   ]
  },
  {
   "cell_type": "code",
   "execution_count": null,
   "metadata": {
    "id": "33HJMcpI2OLz"
   },
   "outputs": [],
   "source": [
    "Y_imps<- varImpY(forest, method=\"oob\")\n",
    "Y_imps\n",
    "coeff_imps<- varImpCoeff(forest, method=\"oob\", removeIntercept=FALSE)\n",
    "shape_imps<- varImpCoeff(forest, method=\"oob\", removeIntercept=TRUE)\n",
    "par(mfrow=c(1,3))\n",
    "plotImp(Y_imps[,3], main=\"Response\")\n",
    "plotImp(coeff_imps[,3], main = \"Coeff w/ Intercept\")\n",
    "plotImp(shape_imps[,3], main = \"Coeff w/out Intercept\")"
   ]
  },
  {
   "cell_type": "markdown",
   "metadata": {
    "id": "kp187nDCXvmr"
   },
   "source": [
    "dans les resultats des importances des variables on voit les 2 variables de hosp.median et rad median qui sont les plus important dans toutes les 3 methodes . dans premier plot dc.median vient apres les 2 premiers , dans 2eme plot aussi mais dans le plot sans prise en compte l'intercpt nombre aides median est une variable importante pour faire les predictions."
   ]
  },
  {
   "cell_type": "markdown",
   "metadata": {
    "id": "3njsWknn8gOg"
   },
   "source": [
    "#Conclusion\n",
    "Les forêts splines sont des outils utiles pour comprendre quelles variables peuvent être associées à l'hétérogénéité des trajectoires longitudinales d'une population.\n"
   ]
  }
 ],
 "metadata": {
  "colab": {
   "provenance": []
  },
  "kernelspec": {
   "display_name": "Python 3 (ipykernel)",
   "language": "python",
   "name": "python3"
  },
  "language_info": {
   "codemirror_mode": {
    "name": "ipython",
    "version": 3
   },
   "file_extension": ".py",
   "mimetype": "text/x-python",
   "name": "python",
   "nbconvert_exporter": "python",
   "pygments_lexer": "ipython3",
   "version": "3.8.3"
  },
  "toc": {
   "base_numbering": 1,
   "nav_menu": {},
   "number_sections": true,
   "sideBar": true,
   "skip_h1_title": true,
   "title_cell": "Table of Contents",
   "title_sidebar": "Contents",
   "toc_cell": false,
   "toc_position": {},
   "toc_section_display": true,
   "toc_window_display": false
  }
 },
 "nbformat": 4,
 "nbformat_minor": 1
}
